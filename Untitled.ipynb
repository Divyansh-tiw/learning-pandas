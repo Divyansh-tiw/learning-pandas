{
 "cells": [
  {
   "cell_type": "code",
   "execution_count": 1,
   "id": "046673e9-f4b7-4bf0-ad77-1d16a3907a09",
   "metadata": {},
   "outputs": [],
   "source": [
    "import numpy as np\n",
    "import pandas as pd"
   ]
  },
  {
   "cell_type": "markdown",
   "id": "3a6307f5-c986-4c82-82d8-255a5f3e30be",
   "metadata": {},
   "source": [
    "# Data Structure in Pandas"
   ]
  },
  {
   "cell_type": "markdown",
   "id": "e463817c-b046-41bb-bbd7-32e279892dd0",
   "metadata": {},
   "source": [
    "Pandas mainly provides two core data structures, built on top of NumPy arrays:"
   ]
  },
  {
   "cell_type": "markdown",
   "id": "fa006aa6-a72f-47cd-b828-3474dccbed80",
   "metadata": {},
   "source": [
    "1. Series :\n",
    "    - It is an one dimentional labeled array\n",
    "    - It can hold data of any type\n",
    "    - Each element in series consists of index"
   ]
  },
  {
   "cell_type": "code",
   "execution_count": 2,
   "id": "99154e91-aef7-47f1-b572-359a81a58bb7",
   "metadata": {},
   "outputs": [],
   "source": [
    "s = pd.Series([10, 20, 30], index=[\"a\", \"b\", \"c\"])"
   ]
  },
  {
   "cell_type": "code",
   "execution_count": 3,
   "id": "5c2639c8-a1b0-41ed-b241-9b9d60cc67d9",
   "metadata": {},
   "outputs": [
    {
     "data": {
      "text/plain": [
       "a    10\n",
       "b    20\n",
       "c    30\n",
       "dtype: int64"
      ]
     },
     "execution_count": 3,
     "metadata": {},
     "output_type": "execute_result"
    }
   ],
   "source": [
    "s"
   ]
  },
  {
   "cell_type": "markdown",
   "id": "0aa42bb4-793d-4919-8ed6-b1e1a3798583",
   "metadata": {},
   "source": [
    "2. DataFrame\n",
    "    - It is an two dimentional labeled data structure ( like rows and columns )\n",
    "    - Each column in DataFrame is a Series Object\n",
    "    - It is heterogenous, i.e. each column can hold different type of data"
   ]
  },
  {
   "cell_type": "code",
   "execution_count": 4,
   "id": "8e4e047d-670a-47a1-bbe0-05739a8aa27f",
   "metadata": {},
   "outputs": [],
   "source": [
    "dict1 = {\n",
    "    \"name\" : ['divyansh', 'raj', 'himanshu', 'unnati', 'vivan', 'honey'],\n",
    "    \"marks\" : [21, 22, 23, 24, 25, 26],\n",
    "    \"city\" : ['azamgarh', 'kanpur', 'ambedkarnagar', 'azamgarh', 'ambedkarnagar', 'ambedkarnagar']\n",
    "}"
   ]
  },
  {
   "cell_type": "code",
   "execution_count": 5,
   "id": "3b2f3a5e-0404-473c-bf29-ae95fbc21f5f",
   "metadata": {},
   "outputs": [],
   "source": [
    "df = pd.DataFrame(dict1)"
   ]
  },
  {
   "cell_type": "code",
   "execution_count": 6,
   "id": "509e8b62-2307-4560-bb9d-a3ce80bf7a80",
   "metadata": {},
   "outputs": [
    {
     "data": {
      "text/html": [
       "<div>\n",
       "<style scoped>\n",
       "    .dataframe tbody tr th:only-of-type {\n",
       "        vertical-align: middle;\n",
       "    }\n",
       "\n",
       "    .dataframe tbody tr th {\n",
       "        vertical-align: top;\n",
       "    }\n",
       "\n",
       "    .dataframe thead th {\n",
       "        text-align: right;\n",
       "    }\n",
       "</style>\n",
       "<table border=\"1\" class=\"dataframe\">\n",
       "  <thead>\n",
       "    <tr style=\"text-align: right;\">\n",
       "      <th></th>\n",
       "      <th>name</th>\n",
       "      <th>marks</th>\n",
       "      <th>city</th>\n",
       "    </tr>\n",
       "  </thead>\n",
       "  <tbody>\n",
       "    <tr>\n",
       "      <th>0</th>\n",
       "      <td>divyansh</td>\n",
       "      <td>21</td>\n",
       "      <td>azamgarh</td>\n",
       "    </tr>\n",
       "    <tr>\n",
       "      <th>1</th>\n",
       "      <td>raj</td>\n",
       "      <td>22</td>\n",
       "      <td>kanpur</td>\n",
       "    </tr>\n",
       "    <tr>\n",
       "      <th>2</th>\n",
       "      <td>himanshu</td>\n",
       "      <td>23</td>\n",
       "      <td>ambedkarnagar</td>\n",
       "    </tr>\n",
       "    <tr>\n",
       "      <th>3</th>\n",
       "      <td>unnati</td>\n",
       "      <td>24</td>\n",
       "      <td>azamgarh</td>\n",
       "    </tr>\n",
       "    <tr>\n",
       "      <th>4</th>\n",
       "      <td>vivan</td>\n",
       "      <td>25</td>\n",
       "      <td>ambedkarnagar</td>\n",
       "    </tr>\n",
       "    <tr>\n",
       "      <th>5</th>\n",
       "      <td>honey</td>\n",
       "      <td>26</td>\n",
       "      <td>ambedkarnagar</td>\n",
       "    </tr>\n",
       "  </tbody>\n",
       "</table>\n",
       "</div>"
      ],
      "text/plain": [
       "       name  marks           city\n",
       "0  divyansh     21       azamgarh\n",
       "1       raj     22         kanpur\n",
       "2  himanshu     23  ambedkarnagar\n",
       "3    unnati     24       azamgarh\n",
       "4     vivan     25  ambedkarnagar\n",
       "5     honey     26  ambedkarnagar"
      ]
     },
     "execution_count": 6,
     "metadata": {},
     "output_type": "execute_result"
    }
   ],
   "source": [
    "df"
   ]
  },
  {
   "cell_type": "markdown",
   "id": "9fbcf462-d3a5-429e-92f3-924b5c5b0f4b",
   "metadata": {},
   "source": [
    "**pd.DataFrame(dict1)** calls the pandas constructor to convert that dictionary into a tabular format."
   ]
  },
  {
   "cell_type": "code",
   "execution_count": 7,
   "id": "8bd5bc73-bb21-4937-9643-ab18cce11d76",
   "metadata": {},
   "outputs": [],
   "source": [
    "df.to_csv('cousins.csv')"
   ]
  },
  {
   "cell_type": "markdown",
   "id": "676a7a2d-44dc-4eeb-b575-646115960ee9",
   "metadata": {},
   "source": [
    "this line of code converts the dictionary into a csv file "
   ]
  },
  {
   "cell_type": "markdown",
   "id": "c14e2add-21e4-4582-942f-2d8333738307",
   "metadata": {},
   "source": [
    "but this basic code gives the index in the csv file too, to disable it, you'll have to use index=False"
   ]
  },
  {
   "cell_type": "code",
   "execution_count": 8,
   "id": "d767e9dd-6b9f-4969-ba59-4aaf5cbab278",
   "metadata": {},
   "outputs": [],
   "source": [
    "df.to_csv('cousins_no_index.csv', index=False)"
   ]
  },
  {
   "cell_type": "markdown",
   "id": "7e24adbb-8240-490c-9b37-1abe7e428e5c",
   "metadata": {},
   "source": [
    "this gives us a file without any indexing"
   ]
  },
  {
   "cell_type": "code",
   "execution_count": 9,
   "id": "6833e076-869c-4072-9354-5da92076c27c",
   "metadata": {},
   "outputs": [
    {
     "data": {
      "text/html": [
       "<div>\n",
       "<style scoped>\n",
       "    .dataframe tbody tr th:only-of-type {\n",
       "        vertical-align: middle;\n",
       "    }\n",
       "\n",
       "    .dataframe tbody tr th {\n",
       "        vertical-align: top;\n",
       "    }\n",
       "\n",
       "    .dataframe thead th {\n",
       "        text-align: right;\n",
       "    }\n",
       "</style>\n",
       "<table border=\"1\" class=\"dataframe\">\n",
       "  <thead>\n",
       "    <tr style=\"text-align: right;\">\n",
       "      <th></th>\n",
       "      <th>name</th>\n",
       "      <th>marks</th>\n",
       "      <th>city</th>\n",
       "    </tr>\n",
       "  </thead>\n",
       "  <tbody>\n",
       "    <tr>\n",
       "      <th>0</th>\n",
       "      <td>divyansh</td>\n",
       "      <td>21</td>\n",
       "      <td>azamgarh</td>\n",
       "    </tr>\n",
       "    <tr>\n",
       "      <th>1</th>\n",
       "      <td>raj</td>\n",
       "      <td>22</td>\n",
       "      <td>kanpur</td>\n",
       "    </tr>\n",
       "  </tbody>\n",
       "</table>\n",
       "</div>"
      ],
      "text/plain": [
       "       name  marks      city\n",
       "0  divyansh     21  azamgarh\n",
       "1       raj     22    kanpur"
      ]
     },
     "execution_count": 9,
     "metadata": {},
     "output_type": "execute_result"
    }
   ],
   "source": [
    "df.head(2)"
   ]
  },
  {
   "cell_type": "markdown",
   "id": "01bc51cb-3a12-4e7e-9c45-aadcc8ff7286",
   "metadata": {},
   "source": [
    "this line of code shows us the first two lines of the dataframe"
   ]
  },
  {
   "cell_type": "code",
   "execution_count": 10,
   "id": "58f6d647-c167-46c5-9d8d-f67e8c58e847",
   "metadata": {},
   "outputs": [
    {
     "data": {
      "text/html": [
       "<div>\n",
       "<style scoped>\n",
       "    .dataframe tbody tr th:only-of-type {\n",
       "        vertical-align: middle;\n",
       "    }\n",
       "\n",
       "    .dataframe tbody tr th {\n",
       "        vertical-align: top;\n",
       "    }\n",
       "\n",
       "    .dataframe thead th {\n",
       "        text-align: right;\n",
       "    }\n",
       "</style>\n",
       "<table border=\"1\" class=\"dataframe\">\n",
       "  <thead>\n",
       "    <tr style=\"text-align: right;\">\n",
       "      <th></th>\n",
       "      <th>name</th>\n",
       "      <th>marks</th>\n",
       "      <th>city</th>\n",
       "    </tr>\n",
       "  </thead>\n",
       "  <tbody>\n",
       "    <tr>\n",
       "      <th>4</th>\n",
       "      <td>vivan</td>\n",
       "      <td>25</td>\n",
       "      <td>ambedkarnagar</td>\n",
       "    </tr>\n",
       "    <tr>\n",
       "      <th>5</th>\n",
       "      <td>honey</td>\n",
       "      <td>26</td>\n",
       "      <td>ambedkarnagar</td>\n",
       "    </tr>\n",
       "  </tbody>\n",
       "</table>\n",
       "</div>"
      ],
      "text/plain": [
       "    name  marks           city\n",
       "4  vivan     25  ambedkarnagar\n",
       "5  honey     26  ambedkarnagar"
      ]
     },
     "execution_count": 10,
     "metadata": {},
     "output_type": "execute_result"
    }
   ],
   "source": [
    "df.tail(2)"
   ]
  },
  {
   "cell_type": "markdown",
   "id": "d05e0c74-22ee-465f-94aa-be1e10de5613",
   "metadata": {},
   "source": [
    "this code shows us the last two lines of dataframe"
   ]
  },
  {
   "cell_type": "code",
   "execution_count": 11,
   "id": "ef4b7480-3674-407f-aa8b-ee998a99c8b6",
   "metadata": {},
   "outputs": [
    {
     "data": {
      "text/html": [
       "<div>\n",
       "<style scoped>\n",
       "    .dataframe tbody tr th:only-of-type {\n",
       "        vertical-align: middle;\n",
       "    }\n",
       "\n",
       "    .dataframe tbody tr th {\n",
       "        vertical-align: top;\n",
       "    }\n",
       "\n",
       "    .dataframe thead th {\n",
       "        text-align: right;\n",
       "    }\n",
       "</style>\n",
       "<table border=\"1\" class=\"dataframe\">\n",
       "  <thead>\n",
       "    <tr style=\"text-align: right;\">\n",
       "      <th></th>\n",
       "      <th>name</th>\n",
       "      <th>marks</th>\n",
       "      <th>city</th>\n",
       "    </tr>\n",
       "  </thead>\n",
       "  <tbody>\n",
       "    <tr>\n",
       "      <th>1</th>\n",
       "      <td>raj</td>\n",
       "      <td>22</td>\n",
       "      <td>kanpur</td>\n",
       "    </tr>\n",
       "    <tr>\n",
       "      <th>2</th>\n",
       "      <td>himanshu</td>\n",
       "      <td>23</td>\n",
       "      <td>ambedkarnagar</td>\n",
       "    </tr>\n",
       "  </tbody>\n",
       "</table>\n",
       "</div>"
      ],
      "text/plain": [
       "       name  marks           city\n",
       "1       raj     22         kanpur\n",
       "2  himanshu     23  ambedkarnagar"
      ]
     },
     "execution_count": 11,
     "metadata": {},
     "output_type": "execute_result"
    }
   ],
   "source": [
    "df.iloc[1:3]"
   ]
  },
  {
   "cell_type": "markdown",
   "id": "8fb4f234-c99f-4c93-9e0b-bc74c3e8c248",
   "metadata": {},
   "source": [
    "this is used to show the dataframe from one index to another, the last index is exclusive in this"
   ]
  },
  {
   "cell_type": "code",
   "execution_count": 12,
   "id": "5ae117b1-3274-4aa8-8a7c-f3b562c1839e",
   "metadata": {},
   "outputs": [
    {
     "data": {
      "text/html": [
       "<div>\n",
       "<style scoped>\n",
       "    .dataframe tbody tr th:only-of-type {\n",
       "        vertical-align: middle;\n",
       "    }\n",
       "\n",
       "    .dataframe tbody tr th {\n",
       "        vertical-align: top;\n",
       "    }\n",
       "\n",
       "    .dataframe thead th {\n",
       "        text-align: right;\n",
       "    }\n",
       "</style>\n",
       "<table border=\"1\" class=\"dataframe\">\n",
       "  <thead>\n",
       "    <tr style=\"text-align: right;\">\n",
       "      <th></th>\n",
       "      <th>name</th>\n",
       "      <th>marks</th>\n",
       "      <th>city</th>\n",
       "    </tr>\n",
       "  </thead>\n",
       "  <tbody>\n",
       "    <tr>\n",
       "      <th>1</th>\n",
       "      <td>raj</td>\n",
       "      <td>22</td>\n",
       "      <td>kanpur</td>\n",
       "    </tr>\n",
       "    <tr>\n",
       "      <th>2</th>\n",
       "      <td>himanshu</td>\n",
       "      <td>23</td>\n",
       "      <td>ambedkarnagar</td>\n",
       "    </tr>\n",
       "    <tr>\n",
       "      <th>3</th>\n",
       "      <td>unnati</td>\n",
       "      <td>24</td>\n",
       "      <td>azamgarh</td>\n",
       "    </tr>\n",
       "  </tbody>\n",
       "</table>\n",
       "</div>"
      ],
      "text/plain": [
       "       name  marks           city\n",
       "1       raj     22         kanpur\n",
       "2  himanshu     23  ambedkarnagar\n",
       "3    unnati     24       azamgarh"
      ]
     },
     "execution_count": 12,
     "metadata": {},
     "output_type": "execute_result"
    }
   ],
   "source": [
    "df.loc[1:3]"
   ]
  },
  {
   "cell_type": "markdown",
   "id": "ecfab472-f26a-456b-8d27-3b8069a2a7d5",
   "metadata": {},
   "source": [
    "here the last index is inclusive"
   ]
  },
  {
   "cell_type": "code",
   "execution_count": 13,
   "id": "fe8f8f09-ed1a-44d2-9889-347c0f97de38",
   "metadata": {},
   "outputs": [
    {
     "data": {
      "text/html": [
       "<div>\n",
       "<style scoped>\n",
       "    .dataframe tbody tr th:only-of-type {\n",
       "        vertical-align: middle;\n",
       "    }\n",
       "\n",
       "    .dataframe tbody tr th {\n",
       "        vertical-align: top;\n",
       "    }\n",
       "\n",
       "    .dataframe thead th {\n",
       "        text-align: right;\n",
       "    }\n",
       "</style>\n",
       "<table border=\"1\" class=\"dataframe\">\n",
       "  <thead>\n",
       "    <tr style=\"text-align: right;\">\n",
       "      <th></th>\n",
       "      <th>marks</th>\n",
       "    </tr>\n",
       "  </thead>\n",
       "  <tbody>\n",
       "    <tr>\n",
       "      <th>count</th>\n",
       "      <td>6.000000</td>\n",
       "    </tr>\n",
       "    <tr>\n",
       "      <th>mean</th>\n",
       "      <td>23.500000</td>\n",
       "    </tr>\n",
       "    <tr>\n",
       "      <th>std</th>\n",
       "      <td>1.870829</td>\n",
       "    </tr>\n",
       "    <tr>\n",
       "      <th>min</th>\n",
       "      <td>21.000000</td>\n",
       "    </tr>\n",
       "    <tr>\n",
       "      <th>25%</th>\n",
       "      <td>22.250000</td>\n",
       "    </tr>\n",
       "    <tr>\n",
       "      <th>50%</th>\n",
       "      <td>23.500000</td>\n",
       "    </tr>\n",
       "    <tr>\n",
       "      <th>75%</th>\n",
       "      <td>24.750000</td>\n",
       "    </tr>\n",
       "    <tr>\n",
       "      <th>max</th>\n",
       "      <td>26.000000</td>\n",
       "    </tr>\n",
       "  </tbody>\n",
       "</table>\n",
       "</div>"
      ],
      "text/plain": [
       "           marks\n",
       "count   6.000000\n",
       "mean   23.500000\n",
       "std     1.870829\n",
       "min    21.000000\n",
       "25%    22.250000\n",
       "50%    23.500000\n",
       "75%    24.750000\n",
       "max    26.000000"
      ]
     },
     "execution_count": 13,
     "metadata": {},
     "output_type": "execute_result"
    }
   ],
   "source": [
    "df.describe()"
   ]
  },
  {
   "cell_type": "markdown",
   "id": "0ab6883f-a6fd-4e52-976b-21cf4f3561e7",
   "metadata": {},
   "source": [
    "this line of code generates the stats of your dataframe (only works for numerical data by default)"
   ]
  },
  {
   "cell_type": "markdown",
   "id": "f87c0b01-cd45-4b77-a22b-2aa65fe751b0",
   "metadata": {},
   "source": [
    "here are the explanation of what each row means\n",
    "\n",
    "- **count** → number of non-null entries\n",
    "- **mean** → average value\n",
    "- **std** → standard deviation (spread of values)\n",
    "- **min** → smallest value\n",
    "- **25%** → 1st quartile (25% of values below this)\n",
    "- **50%** → median (middle value)\n",
    "- **75%** → 3rd quartile (75% of values below this)\n",
    "- **max** → largest value"
   ]
  },
  {
   "cell_type": "code",
   "execution_count": 14,
   "id": "8cbe465c-69aa-482d-b8ad-a9890bc7e903",
   "metadata": {},
   "outputs": [],
   "source": [
    "tr = pd.read_csv('trains.csv')"
   ]
  },
  {
   "cell_type": "code",
   "execution_count": 15,
   "id": "01027320-7899-4ff6-99ce-b659d28abcc1",
   "metadata": {},
   "outputs": [
    {
     "data": {
      "text/html": [
       "<div>\n",
       "<style scoped>\n",
       "    .dataframe tbody tr th:only-of-type {\n",
       "        vertical-align: middle;\n",
       "    }\n",
       "\n",
       "    .dataframe tbody tr th {\n",
       "        vertical-align: top;\n",
       "    }\n",
       "\n",
       "    .dataframe thead th {\n",
       "        text-align: right;\n",
       "    }\n",
       "</style>\n",
       "<table border=\"1\" class=\"dataframe\">\n",
       "  <thead>\n",
       "    <tr style=\"text-align: right;\">\n",
       "      <th></th>\n",
       "      <th>Unnamed: 0</th>\n",
       "      <th>Source</th>\n",
       "      <th>Destination</th>\n",
       "      <th>Train_Name</th>\n",
       "      <th>Speed_kmph</th>\n",
       "      <th>Distance_km</th>\n",
       "    </tr>\n",
       "  </thead>\n",
       "  <tbody>\n",
       "    <tr>\n",
       "      <th>0</th>\n",
       "      <td>0</td>\n",
       "      <td>New Delhi</td>\n",
       "      <td>Mumbai Central</td>\n",
       "      <td>Rajdhani Express</td>\n",
       "      <td>100</td>\n",
       "      <td>1384</td>\n",
       "    </tr>\n",
       "    <tr>\n",
       "      <th>1</th>\n",
       "      <td>1</td>\n",
       "      <td>Howrah</td>\n",
       "      <td>Chennai</td>\n",
       "      <td>Coromandel Express</td>\n",
       "      <td>80</td>\n",
       "      <td>1659</td>\n",
       "    </tr>\n",
       "    <tr>\n",
       "      <th>2</th>\n",
       "      <td>2</td>\n",
       "      <td>Bangalore City</td>\n",
       "      <td>Hyderabad</td>\n",
       "      <td>Kacheguda Express</td>\n",
       "      <td>70</td>\n",
       "      <td>707</td>\n",
       "    </tr>\n",
       "    <tr>\n",
       "      <th>3</th>\n",
       "      <td>3</td>\n",
       "      <td>Ahmedabad</td>\n",
       "      <td>Jaipur</td>\n",
       "      <td>Aravalli Express</td>\n",
       "      <td>65</td>\n",
       "      <td>632</td>\n",
       "    </tr>\n",
       "    <tr>\n",
       "      <th>4</th>\n",
       "      <td>4</td>\n",
       "      <td>Kolkata</td>\n",
       "      <td>Patna</td>\n",
       "      <td>Shatabdi Express</td>\n",
       "      <td>85</td>\n",
       "      <td>532</td>\n",
       "    </tr>\n",
       "  </tbody>\n",
       "</table>\n",
       "</div>"
      ],
      "text/plain": [
       "   Unnamed: 0          Source     Destination          Train_Name  Speed_kmph  \\\n",
       "0           0       New Delhi  Mumbai Central    Rajdhani Express         100   \n",
       "1           1          Howrah         Chennai  Coromandel Express          80   \n",
       "2           2  Bangalore City       Hyderabad   Kacheguda Express          70   \n",
       "3           3       Ahmedabad          Jaipur    Aravalli Express          65   \n",
       "4           4         Kolkata           Patna    Shatabdi Express          85   \n",
       "\n",
       "   Distance_km  \n",
       "0         1384  \n",
       "1         1659  \n",
       "2          707  \n",
       "3          632  \n",
       "4          532  "
      ]
     },
     "execution_count": 15,
     "metadata": {},
     "output_type": "execute_result"
    }
   ],
   "source": [
    "tr"
   ]
  },
  {
   "cell_type": "markdown",
   "id": "eef62f71-8e79-49e1-96ea-a9782cc45b69",
   "metadata": {},
   "source": [
    "read_csv is used to read csv file present in the folder and this also helps us to allot the data of that csv file to any variable"
   ]
  },
  {
   "cell_type": "code",
   "execution_count": 16,
   "id": "1ce4b887-0dc4-4079-9c4f-9357fb511eec",
   "metadata": {},
   "outputs": [
    {
     "data": {
      "text/plain": [
       "0         New Delhi\n",
       "1            Howrah\n",
       "2    Bangalore City\n",
       "3         Ahmedabad\n",
       "4           Kolkata\n",
       "Name: Source, dtype: object"
      ]
     },
     "execution_count": 16,
     "metadata": {},
     "output_type": "execute_result"
    }
   ],
   "source": [
    "tr['Source']"
   ]
  },
  {
   "cell_type": "markdown",
   "id": "13b0eb25-7f47-447e-a170-b910857ef362",
   "metadata": {},
   "source": [
    "we can get info of certain columns by using their names"
   ]
  },
  {
   "cell_type": "code",
   "execution_count": 17,
   "id": "6d77c346-7864-417a-9439-9d97a9266422",
   "metadata": {},
   "outputs": [
    {
     "data": {
      "text/plain": [
       "np.int64(1659)"
      ]
     },
     "execution_count": 17,
     "metadata": {},
     "output_type": "execute_result"
    }
   ],
   "source": [
    "tr['Distance_km'][1]"
   ]
  },
  {
   "cell_type": "markdown",
   "id": "8789d5f6-7be5-412b-a067-06de4caddd78",
   "metadata": {},
   "source": [
    "we can also get certain elements by using the column and index"
   ]
  },
  {
   "cell_type": "markdown",
   "id": "02fbc891-9932-4bec-8f6f-cbe0674961c6",
   "metadata": {},
   "source": [
    "this can also be used to change certain elements"
   ]
  },
  {
   "cell_type": "code",
   "execution_count": 18,
   "id": "3e62471c-8926-4049-a4dc-5061457bd9d5",
   "metadata": {},
   "outputs": [
    {
     "name": "stderr",
     "output_type": "stream",
     "text": [
      "C:\\Users\\Divyansh Tiwari\\AppData\\Local\\Temp\\ipykernel_4832\\3590987952.py:1: FutureWarning: ChainedAssignmentError: behaviour will change in pandas 3.0!\n",
      "You are setting values through chained assignment. Currently this works in certain cases, but when using Copy-on-Write (which will become the default behaviour in pandas 3.0) this will never work to update the original DataFrame or Series, because the intermediate object on which we are setting values will behave as a copy.\n",
      "A typical example is when you are setting values in a column of a DataFrame, like:\n",
      "\n",
      "df[\"col\"][row_indexer] = value\n",
      "\n",
      "Use `df.loc[row_indexer, \"col\"] = values` instead, to perform the assignment in a single step and ensure this keeps updating the original `df`.\n",
      "\n",
      "See the caveats in the documentation: https://pandas.pydata.org/pandas-docs/stable/user_guide/indexing.html#returning-a-view-versus-a-copy\n",
      "\n",
      "  tr['Speed_kmph'][0] = 100\n",
      "C:\\Users\\Divyansh Tiwari\\AppData\\Local\\Temp\\ipykernel_4832\\3590987952.py:1: SettingWithCopyWarning: \n",
      "A value is trying to be set on a copy of a slice from a DataFrame\n",
      "\n",
      "See the caveats in the documentation: https://pandas.pydata.org/pandas-docs/stable/user_guide/indexing.html#returning-a-view-versus-a-copy\n",
      "  tr['Speed_kmph'][0] = 100\n"
     ]
    }
   ],
   "source": [
    "tr['Speed_kmph'][0] = 100"
   ]
  },
  {
   "cell_type": "markdown",
   "id": "c0f98442-5a17-4d04-8374-ff403a0ac63f",
   "metadata": {},
   "source": [
    "this code will give us a warning about setting a value on a slice"
   ]
  },
  {
   "cell_type": "code",
   "execution_count": 19,
   "id": "b50da57e-a67e-423e-8bb1-0c4c7edcd1fd",
   "metadata": {},
   "outputs": [
    {
     "data": {
      "text/html": [
       "<div>\n",
       "<style scoped>\n",
       "    .dataframe tbody tr th:only-of-type {\n",
       "        vertical-align: middle;\n",
       "    }\n",
       "\n",
       "    .dataframe tbody tr th {\n",
       "        vertical-align: top;\n",
       "    }\n",
       "\n",
       "    .dataframe thead th {\n",
       "        text-align: right;\n",
       "    }\n",
       "</style>\n",
       "<table border=\"1\" class=\"dataframe\">\n",
       "  <thead>\n",
       "    <tr style=\"text-align: right;\">\n",
       "      <th></th>\n",
       "      <th>Unnamed: 0</th>\n",
       "      <th>Source</th>\n",
       "      <th>Destination</th>\n",
       "      <th>Train_Name</th>\n",
       "      <th>Speed_kmph</th>\n",
       "      <th>Distance_km</th>\n",
       "    </tr>\n",
       "  </thead>\n",
       "  <tbody>\n",
       "    <tr>\n",
       "      <th>0</th>\n",
       "      <td>0</td>\n",
       "      <td>New Delhi</td>\n",
       "      <td>Mumbai Central</td>\n",
       "      <td>Rajdhani Express</td>\n",
       "      <td>100</td>\n",
       "      <td>1384</td>\n",
       "    </tr>\n",
       "    <tr>\n",
       "      <th>1</th>\n",
       "      <td>1</td>\n",
       "      <td>Howrah</td>\n",
       "      <td>Chennai</td>\n",
       "      <td>Coromandel Express</td>\n",
       "      <td>80</td>\n",
       "      <td>1659</td>\n",
       "    </tr>\n",
       "    <tr>\n",
       "      <th>2</th>\n",
       "      <td>2</td>\n",
       "      <td>Bangalore City</td>\n",
       "      <td>Hyderabad</td>\n",
       "      <td>Kacheguda Express</td>\n",
       "      <td>70</td>\n",
       "      <td>707</td>\n",
       "    </tr>\n",
       "    <tr>\n",
       "      <th>3</th>\n",
       "      <td>3</td>\n",
       "      <td>Ahmedabad</td>\n",
       "      <td>Jaipur</td>\n",
       "      <td>Aravalli Express</td>\n",
       "      <td>65</td>\n",
       "      <td>632</td>\n",
       "    </tr>\n",
       "    <tr>\n",
       "      <th>4</th>\n",
       "      <td>4</td>\n",
       "      <td>Kolkata</td>\n",
       "      <td>Patna</td>\n",
       "      <td>Shatabdi Express</td>\n",
       "      <td>85</td>\n",
       "      <td>532</td>\n",
       "    </tr>\n",
       "  </tbody>\n",
       "</table>\n",
       "</div>"
      ],
      "text/plain": [
       "   Unnamed: 0          Source     Destination          Train_Name  Speed_kmph  \\\n",
       "0           0       New Delhi  Mumbai Central    Rajdhani Express         100   \n",
       "1           1          Howrah         Chennai  Coromandel Express          80   \n",
       "2           2  Bangalore City       Hyderabad   Kacheguda Express          70   \n",
       "3           3       Ahmedabad          Jaipur    Aravalli Express          65   \n",
       "4           4         Kolkata           Patna    Shatabdi Express          85   \n",
       "\n",
       "   Distance_km  \n",
       "0         1384  \n",
       "1         1659  \n",
       "2          707  \n",
       "3          632  \n",
       "4          532  "
      ]
     },
     "execution_count": 19,
     "metadata": {},
     "output_type": "execute_result"
    }
   ],
   "source": [
    "tr"
   ]
  },
  {
   "cell_type": "markdown",
   "id": "16541b3d-a104-4a7f-b2ce-2693ca62690c",
   "metadata": {},
   "source": [
    "but that line will change the element nonetheless"
   ]
  },
  {
   "cell_type": "code",
   "execution_count": 20,
   "id": "2796b9bf-0c51-4474-89af-50cd047ae20f",
   "metadata": {},
   "outputs": [],
   "source": [
    "tr.to_csv('trains.csv')"
   ]
  },
  {
   "cell_type": "markdown",
   "id": "e69935a9-88bc-40f0-aa6d-f18f629b442d",
   "metadata": {},
   "source": [
    "this is to update the original csv file"
   ]
  },
  {
   "cell_type": "code",
   "execution_count": 21,
   "id": "2aa0b2b8-cfb3-419b-b7d1-21329619037f",
   "metadata": {},
   "outputs": [],
   "source": [
    "tr.index = ['I', 'II', 'III', 'IV', 'v']"
   ]
  },
  {
   "cell_type": "code",
   "execution_count": 22,
   "id": "4d6d4b93-eab1-460f-b0b6-aa6c43b45c38",
   "metadata": {},
   "outputs": [
    {
     "data": {
      "text/html": [
       "<div>\n",
       "<style scoped>\n",
       "    .dataframe tbody tr th:only-of-type {\n",
       "        vertical-align: middle;\n",
       "    }\n",
       "\n",
       "    .dataframe tbody tr th {\n",
       "        vertical-align: top;\n",
       "    }\n",
       "\n",
       "    .dataframe thead th {\n",
       "        text-align: right;\n",
       "    }\n",
       "</style>\n",
       "<table border=\"1\" class=\"dataframe\">\n",
       "  <thead>\n",
       "    <tr style=\"text-align: right;\">\n",
       "      <th></th>\n",
       "      <th>Unnamed: 0</th>\n",
       "      <th>Source</th>\n",
       "      <th>Destination</th>\n",
       "      <th>Train_Name</th>\n",
       "      <th>Speed_kmph</th>\n",
       "      <th>Distance_km</th>\n",
       "    </tr>\n",
       "  </thead>\n",
       "  <tbody>\n",
       "    <tr>\n",
       "      <th>I</th>\n",
       "      <td>0</td>\n",
       "      <td>New Delhi</td>\n",
       "      <td>Mumbai Central</td>\n",
       "      <td>Rajdhani Express</td>\n",
       "      <td>100</td>\n",
       "      <td>1384</td>\n",
       "    </tr>\n",
       "    <tr>\n",
       "      <th>II</th>\n",
       "      <td>1</td>\n",
       "      <td>Howrah</td>\n",
       "      <td>Chennai</td>\n",
       "      <td>Coromandel Express</td>\n",
       "      <td>80</td>\n",
       "      <td>1659</td>\n",
       "    </tr>\n",
       "    <tr>\n",
       "      <th>III</th>\n",
       "      <td>2</td>\n",
       "      <td>Bangalore City</td>\n",
       "      <td>Hyderabad</td>\n",
       "      <td>Kacheguda Express</td>\n",
       "      <td>70</td>\n",
       "      <td>707</td>\n",
       "    </tr>\n",
       "    <tr>\n",
       "      <th>IV</th>\n",
       "      <td>3</td>\n",
       "      <td>Ahmedabad</td>\n",
       "      <td>Jaipur</td>\n",
       "      <td>Aravalli Express</td>\n",
       "      <td>65</td>\n",
       "      <td>632</td>\n",
       "    </tr>\n",
       "    <tr>\n",
       "      <th>v</th>\n",
       "      <td>4</td>\n",
       "      <td>Kolkata</td>\n",
       "      <td>Patna</td>\n",
       "      <td>Shatabdi Express</td>\n",
       "      <td>85</td>\n",
       "      <td>532</td>\n",
       "    </tr>\n",
       "  </tbody>\n",
       "</table>\n",
       "</div>"
      ],
      "text/plain": [
       "     Unnamed: 0          Source     Destination          Train_Name  \\\n",
       "I             0       New Delhi  Mumbai Central    Rajdhani Express   \n",
       "II            1          Howrah         Chennai  Coromandel Express   \n",
       "III           2  Bangalore City       Hyderabad   Kacheguda Express   \n",
       "IV            3       Ahmedabad          Jaipur    Aravalli Express   \n",
       "v             4         Kolkata           Patna    Shatabdi Express   \n",
       "\n",
       "     Speed_kmph  Distance_km  \n",
       "I           100         1384  \n",
       "II           80         1659  \n",
       "III          70          707  \n",
       "IV           65          632  \n",
       "v            85          532  "
      ]
     },
     "execution_count": 22,
     "metadata": {},
     "output_type": "execute_result"
    }
   ],
   "source": [
    "tr"
   ]
  },
  {
   "cell_type": "markdown",
   "id": "43842053-6718-4ed1-9d19-d1b3bf82c004",
   "metadata": {},
   "source": [
    "this line of code shows that index doesn't have to be a numerical value"
   ]
  },
  {
   "cell_type": "markdown",
   "id": "38be1643-6b1f-40c1-ad17-58a033ae67b3",
   "metadata": {},
   "source": [
    "# Understading the difference between Series and DataFrame"
   ]
  },
  {
   "cell_type": "code",
   "execution_count": 23,
   "id": "0945d4e1-6e51-4113-8d63-eb78b94b4cf8",
   "metadata": {},
   "outputs": [],
   "source": [
    "ser = pd.Series(np.random.rand(10))"
   ]
  },
  {
   "cell_type": "code",
   "execution_count": 24,
   "id": "b4c46387-a240-4f11-b16c-a20b33b432d4",
   "metadata": {},
   "outputs": [
    {
     "data": {
      "text/plain": [
       "0    0.300538\n",
       "1    0.793748\n",
       "2    0.694569\n",
       "3    0.590925\n",
       "4    0.344477\n",
       "5    0.648137\n",
       "6    0.936831\n",
       "7    0.745776\n",
       "8    0.295927\n",
       "9    0.788378\n",
       "dtype: float64"
      ]
     },
     "execution_count": 24,
     "metadata": {},
     "output_type": "execute_result"
    }
   ],
   "source": [
    "ser"
   ]
  },
  {
   "cell_type": "markdown",
   "id": "268a51a9-84a1-41ec-8102-f7f8000c5c1d",
   "metadata": {},
   "source": [
    "we have generated a series of 10 random floating point numbers"
   ]
  },
  {
   "cell_type": "code",
   "execution_count": 25,
   "id": "4d446c27-e1a2-4dfe-a518-3a84be74ea85",
   "metadata": {},
   "outputs": [
    {
     "data": {
      "text/plain": [
       "pandas.core.series.Series"
      ]
     },
     "execution_count": 25,
     "metadata": {},
     "output_type": "execute_result"
    }
   ],
   "source": [
    "type(ser)"
   ]
  },
  {
   "cell_type": "markdown",
   "id": "1b5e6fc1-6c2c-4df1-867c-41dc3e944a7f",
   "metadata": {},
   "source": [
    "this shows us that the given data structure is a series"
   ]
  },
  {
   "cell_type": "code",
   "execution_count": 26,
   "id": "195e92e1-73c1-45c6-97f6-d8204ab4646a",
   "metadata": {},
   "outputs": [],
   "source": [
    "newdf = pd.DataFrame(np.random.rand(350, 5), index = np.arange(350))"
   ]
  },
  {
   "cell_type": "code",
   "execution_count": 27,
   "id": "c3ec3231-a55e-4295-a953-b95aa7589f1a",
   "metadata": {},
   "outputs": [
    {
     "data": {
      "text/html": [
       "<div>\n",
       "<style scoped>\n",
       "    .dataframe tbody tr th:only-of-type {\n",
       "        vertical-align: middle;\n",
       "    }\n",
       "\n",
       "    .dataframe tbody tr th {\n",
       "        vertical-align: top;\n",
       "    }\n",
       "\n",
       "    .dataframe thead th {\n",
       "        text-align: right;\n",
       "    }\n",
       "</style>\n",
       "<table border=\"1\" class=\"dataframe\">\n",
       "  <thead>\n",
       "    <tr style=\"text-align: right;\">\n",
       "      <th></th>\n",
       "      <th>0</th>\n",
       "      <th>1</th>\n",
       "      <th>2</th>\n",
       "      <th>3</th>\n",
       "      <th>4</th>\n",
       "    </tr>\n",
       "  </thead>\n",
       "  <tbody>\n",
       "    <tr>\n",
       "      <th>0</th>\n",
       "      <td>0.175510</td>\n",
       "      <td>0.841241</td>\n",
       "      <td>0.810361</td>\n",
       "      <td>0.014484</td>\n",
       "      <td>0.776411</td>\n",
       "    </tr>\n",
       "    <tr>\n",
       "      <th>1</th>\n",
       "      <td>0.811915</td>\n",
       "      <td>0.761082</td>\n",
       "      <td>0.355677</td>\n",
       "      <td>0.345850</td>\n",
       "      <td>0.787269</td>\n",
       "    </tr>\n",
       "    <tr>\n",
       "      <th>2</th>\n",
       "      <td>0.770055</td>\n",
       "      <td>0.833072</td>\n",
       "      <td>0.477042</td>\n",
       "      <td>0.231271</td>\n",
       "      <td>0.182973</td>\n",
       "    </tr>\n",
       "    <tr>\n",
       "      <th>3</th>\n",
       "      <td>0.241356</td>\n",
       "      <td>0.893818</td>\n",
       "      <td>0.339776</td>\n",
       "      <td>0.110377</td>\n",
       "      <td>0.662872</td>\n",
       "    </tr>\n",
       "    <tr>\n",
       "      <th>4</th>\n",
       "      <td>0.651163</td>\n",
       "      <td>0.217490</td>\n",
       "      <td>0.332754</td>\n",
       "      <td>0.160868</td>\n",
       "      <td>0.941651</td>\n",
       "    </tr>\n",
       "    <tr>\n",
       "      <th>...</th>\n",
       "      <td>...</td>\n",
       "      <td>...</td>\n",
       "      <td>...</td>\n",
       "      <td>...</td>\n",
       "      <td>...</td>\n",
       "    </tr>\n",
       "    <tr>\n",
       "      <th>345</th>\n",
       "      <td>0.594371</td>\n",
       "      <td>0.291743</td>\n",
       "      <td>0.259317</td>\n",
       "      <td>0.007656</td>\n",
       "      <td>0.661942</td>\n",
       "    </tr>\n",
       "    <tr>\n",
       "      <th>346</th>\n",
       "      <td>0.105105</td>\n",
       "      <td>0.939278</td>\n",
       "      <td>0.326849</td>\n",
       "      <td>0.727353</td>\n",
       "      <td>0.632294</td>\n",
       "    </tr>\n",
       "    <tr>\n",
       "      <th>347</th>\n",
       "      <td>0.728748</td>\n",
       "      <td>0.667759</td>\n",
       "      <td>0.297731</td>\n",
       "      <td>0.079681</td>\n",
       "      <td>0.896211</td>\n",
       "    </tr>\n",
       "    <tr>\n",
       "      <th>348</th>\n",
       "      <td>0.478756</td>\n",
       "      <td>0.997045</td>\n",
       "      <td>0.822389</td>\n",
       "      <td>0.882927</td>\n",
       "      <td>0.296244</td>\n",
       "    </tr>\n",
       "    <tr>\n",
       "      <th>349</th>\n",
       "      <td>0.080205</td>\n",
       "      <td>0.827715</td>\n",
       "      <td>0.237541</td>\n",
       "      <td>0.572669</td>\n",
       "      <td>0.288620</td>\n",
       "    </tr>\n",
       "  </tbody>\n",
       "</table>\n",
       "<p>350 rows × 5 columns</p>\n",
       "</div>"
      ],
      "text/plain": [
       "            0         1         2         3         4\n",
       "0    0.175510  0.841241  0.810361  0.014484  0.776411\n",
       "1    0.811915  0.761082  0.355677  0.345850  0.787269\n",
       "2    0.770055  0.833072  0.477042  0.231271  0.182973\n",
       "3    0.241356  0.893818  0.339776  0.110377  0.662872\n",
       "4    0.651163  0.217490  0.332754  0.160868  0.941651\n",
       "..        ...       ...       ...       ...       ...\n",
       "345  0.594371  0.291743  0.259317  0.007656  0.661942\n",
       "346  0.105105  0.939278  0.326849  0.727353  0.632294\n",
       "347  0.728748  0.667759  0.297731  0.079681  0.896211\n",
       "348  0.478756  0.997045  0.822389  0.882927  0.296244\n",
       "349  0.080205  0.827715  0.237541  0.572669  0.288620\n",
       "\n",
       "[350 rows x 5 columns]"
      ]
     },
     "execution_count": 27,
     "metadata": {},
     "output_type": "execute_result"
    }
   ],
   "source": [
    "newdf"
   ]
  },
  {
   "cell_type": "markdown",
   "id": "c25c056c-43bb-4a1e-8e06-4083759a6312",
   "metadata": {},
   "source": [
    "this generates a DataFrame of given dimensions, but because it's so large in size, showing all of the rows is pointless here, so it shows the top 5 and bottom 5 rows of the dataframe"
   ]
  },
  {
   "cell_type": "code",
   "execution_count": 28,
   "id": "cdde14cb-bbf4-4383-9841-47dc03100847",
   "metadata": {},
   "outputs": [
    {
     "data": {
      "text/plain": [
       "pandas.core.frame.DataFrame"
      ]
     },
     "execution_count": 28,
     "metadata": {},
     "output_type": "execute_result"
    }
   ],
   "source": [
    "type(newdf)"
   ]
  },
  {
   "cell_type": "markdown",
   "id": "a38dba3b-b2fa-4525-be14-de15466cda3e",
   "metadata": {},
   "source": [
    "this shows us that the give data structure is a DataFrame"
   ]
  },
  {
   "cell_type": "code",
   "execution_count": 29,
   "id": "47fd92fa-9dd0-497c-9bbf-1ea66fa1067d",
   "metadata": {},
   "outputs": [
    {
     "data": {
      "text/html": [
       "<div>\n",
       "<style scoped>\n",
       "    .dataframe tbody tr th:only-of-type {\n",
       "        vertical-align: middle;\n",
       "    }\n",
       "\n",
       "    .dataframe tbody tr th {\n",
       "        vertical-align: top;\n",
       "    }\n",
       "\n",
       "    .dataframe thead th {\n",
       "        text-align: right;\n",
       "    }\n",
       "</style>\n",
       "<table border=\"1\" class=\"dataframe\">\n",
       "  <thead>\n",
       "    <tr style=\"text-align: right;\">\n",
       "      <th></th>\n",
       "      <th>0</th>\n",
       "      <th>1</th>\n",
       "      <th>2</th>\n",
       "      <th>3</th>\n",
       "      <th>4</th>\n",
       "    </tr>\n",
       "  </thead>\n",
       "  <tbody>\n",
       "    <tr>\n",
       "      <th>0</th>\n",
       "      <td>0.175510</td>\n",
       "      <td>0.841241</td>\n",
       "      <td>0.810361</td>\n",
       "      <td>0.014484</td>\n",
       "      <td>0.776411</td>\n",
       "    </tr>\n",
       "    <tr>\n",
       "      <th>1</th>\n",
       "      <td>0.811915</td>\n",
       "      <td>0.761082</td>\n",
       "      <td>0.355677</td>\n",
       "      <td>0.345850</td>\n",
       "      <td>0.787269</td>\n",
       "    </tr>\n",
       "    <tr>\n",
       "      <th>2</th>\n",
       "      <td>0.770055</td>\n",
       "      <td>0.833072</td>\n",
       "      <td>0.477042</td>\n",
       "      <td>0.231271</td>\n",
       "      <td>0.182973</td>\n",
       "    </tr>\n",
       "    <tr>\n",
       "      <th>3</th>\n",
       "      <td>0.241356</td>\n",
       "      <td>0.893818</td>\n",
       "      <td>0.339776</td>\n",
       "      <td>0.110377</td>\n",
       "      <td>0.662872</td>\n",
       "    </tr>\n",
       "    <tr>\n",
       "      <th>4</th>\n",
       "      <td>0.651163</td>\n",
       "      <td>0.217490</td>\n",
       "      <td>0.332754</td>\n",
       "      <td>0.160868</td>\n",
       "      <td>0.941651</td>\n",
       "    </tr>\n",
       "  </tbody>\n",
       "</table>\n",
       "</div>"
      ],
      "text/plain": [
       "          0         1         2         3         4\n",
       "0  0.175510  0.841241  0.810361  0.014484  0.776411\n",
       "1  0.811915  0.761082  0.355677  0.345850  0.787269\n",
       "2  0.770055  0.833072  0.477042  0.231271  0.182973\n",
       "3  0.241356  0.893818  0.339776  0.110377  0.662872\n",
       "4  0.651163  0.217490  0.332754  0.160868  0.941651"
      ]
     },
     "execution_count": 29,
     "metadata": {},
     "output_type": "execute_result"
    }
   ],
   "source": [
    "newdf.head()"
   ]
  },
  {
   "cell_type": "markdown",
   "id": "6a07ec9a-0cde-41f5-bb47-a4b0b8eafabb",
   "metadata": {},
   "source": [
    "this gives us the top 5 rows of the dataframe"
   ]
  },
  {
   "cell_type": "code",
   "execution_count": 30,
   "id": "6faa26f7-7fdf-4509-b34a-8b09319115c8",
   "metadata": {},
   "outputs": [
    {
     "data": {
      "text/html": [
       "<div>\n",
       "<style scoped>\n",
       "    .dataframe tbody tr th:only-of-type {\n",
       "        vertical-align: middle;\n",
       "    }\n",
       "\n",
       "    .dataframe tbody tr th {\n",
       "        vertical-align: top;\n",
       "    }\n",
       "\n",
       "    .dataframe thead th {\n",
       "        text-align: right;\n",
       "    }\n",
       "</style>\n",
       "<table border=\"1\" class=\"dataframe\">\n",
       "  <thead>\n",
       "    <tr style=\"text-align: right;\">\n",
       "      <th></th>\n",
       "      <th>0</th>\n",
       "      <th>1</th>\n",
       "      <th>2</th>\n",
       "      <th>3</th>\n",
       "      <th>4</th>\n",
       "    </tr>\n",
       "  </thead>\n",
       "  <tbody>\n",
       "    <tr>\n",
       "      <th>345</th>\n",
       "      <td>0.594371</td>\n",
       "      <td>0.291743</td>\n",
       "      <td>0.259317</td>\n",
       "      <td>0.007656</td>\n",
       "      <td>0.661942</td>\n",
       "    </tr>\n",
       "    <tr>\n",
       "      <th>346</th>\n",
       "      <td>0.105105</td>\n",
       "      <td>0.939278</td>\n",
       "      <td>0.326849</td>\n",
       "      <td>0.727353</td>\n",
       "      <td>0.632294</td>\n",
       "    </tr>\n",
       "    <tr>\n",
       "      <th>347</th>\n",
       "      <td>0.728748</td>\n",
       "      <td>0.667759</td>\n",
       "      <td>0.297731</td>\n",
       "      <td>0.079681</td>\n",
       "      <td>0.896211</td>\n",
       "    </tr>\n",
       "    <tr>\n",
       "      <th>348</th>\n",
       "      <td>0.478756</td>\n",
       "      <td>0.997045</td>\n",
       "      <td>0.822389</td>\n",
       "      <td>0.882927</td>\n",
       "      <td>0.296244</td>\n",
       "    </tr>\n",
       "    <tr>\n",
       "      <th>349</th>\n",
       "      <td>0.080205</td>\n",
       "      <td>0.827715</td>\n",
       "      <td>0.237541</td>\n",
       "      <td>0.572669</td>\n",
       "      <td>0.288620</td>\n",
       "    </tr>\n",
       "  </tbody>\n",
       "</table>\n",
       "</div>"
      ],
      "text/plain": [
       "            0         1         2         3         4\n",
       "345  0.594371  0.291743  0.259317  0.007656  0.661942\n",
       "346  0.105105  0.939278  0.326849  0.727353  0.632294\n",
       "347  0.728748  0.667759  0.297731  0.079681  0.896211\n",
       "348  0.478756  0.997045  0.822389  0.882927  0.296244\n",
       "349  0.080205  0.827715  0.237541  0.572669  0.288620"
      ]
     },
     "execution_count": 30,
     "metadata": {},
     "output_type": "execute_result"
    }
   ],
   "source": [
    "newdf.tail()"
   ]
  },
  {
   "cell_type": "markdown",
   "id": "8503e294-453a-40ba-87eb-5cb716ceb41f",
   "metadata": {},
   "source": [
    "this shows us the bottom 5 rows of the dataframe"
   ]
  },
  {
   "cell_type": "code",
   "execution_count": 31,
   "id": "25f2b42a-ec67-4c52-9e32-ae2acc8a01df",
   "metadata": {},
   "outputs": [
    {
     "data": {
      "text/plain": [
       "0    float64\n",
       "1    float64\n",
       "2    float64\n",
       "3    float64\n",
       "4    float64\n",
       "dtype: object"
      ]
     },
     "execution_count": 31,
     "metadata": {},
     "output_type": "execute_result"
    }
   ],
   "source": [
    "newdf.dtypes"
   ]
  },
  {
   "cell_type": "markdown",
   "id": "958d1114-8d57-4a59-9c09-865346c4a3c3",
   "metadata": {},
   "source": [
    "this shows us the data type of each columns ( as dataframe can hold multiple datatypes)"
   ]
  },
  {
   "cell_type": "code",
   "execution_count": 32,
   "id": "0c486ce7-18db-47b9-8934-882fa84248db",
   "metadata": {},
   "outputs": [
    {
     "name": "stderr",
     "output_type": "stream",
     "text": [
      "C:\\Users\\Divyansh Tiwari\\AppData\\Local\\Temp\\ipykernel_4832\\15722733.py:1: FutureWarning: ChainedAssignmentError: behaviour will change in pandas 3.0!\n",
      "You are setting values through chained assignment. Currently this works in certain cases, but when using Copy-on-Write (which will become the default behaviour in pandas 3.0) this will never work to update the original DataFrame or Series, because the intermediate object on which we are setting values will behave as a copy.\n",
      "A typical example is when you are setting values in a column of a DataFrame, like:\n",
      "\n",
      "df[\"col\"][row_indexer] = value\n",
      "\n",
      "Use `df.loc[row_indexer, \"col\"] = values` instead, to perform the assignment in a single step and ensure this keeps updating the original `df`.\n",
      "\n",
      "See the caveats in the documentation: https://pandas.pydata.org/pandas-docs/stable/user_guide/indexing.html#returning-a-view-versus-a-copy\n",
      "\n",
      "  newdf[0][0] = \"Divyansh\"\n",
      "C:\\Users\\Divyansh Tiwari\\AppData\\Local\\Temp\\ipykernel_4832\\15722733.py:1: FutureWarning: Setting an item of incompatible dtype is deprecated and will raise an error in a future version of pandas. Value 'Divyansh' has dtype incompatible with float64, please explicitly cast to a compatible dtype first.\n",
      "  newdf[0][0] = \"Divyansh\"\n"
     ]
    }
   ],
   "source": [
    "newdf[0][0] = \"Divyansh\""
   ]
  },
  {
   "cell_type": "code",
   "execution_count": 33,
   "id": "47745ad3-4d9e-4130-8c62-6679968845ab",
   "metadata": {},
   "outputs": [
    {
     "data": {
      "text/plain": [
       "0     object\n",
       "1    float64\n",
       "2    float64\n",
       "3    float64\n",
       "4    float64\n",
       "dtype: object"
      ]
     },
     "execution_count": 33,
     "metadata": {},
     "output_type": "execute_result"
    }
   ],
   "source": [
    "newdf.dtypes"
   ]
  },
  {
   "cell_type": "markdown",
   "id": "8113083c-9c26-4ab8-a77d-5326178e359f",
   "metadata": {},
   "source": [
    "now by expicitly changing the value of the slice to an object, we've change the whole coloumn data type to object"
   ]
  },
  {
   "cell_type": "markdown",
   "id": "8689a38c-8efa-4921-a4e5-5b2ccffcf2ab",
   "metadata": {},
   "source": [
    "again, explicit change of a slice gives us a warning"
   ]
  },
  {
   "cell_type": "code",
   "execution_count": 34,
   "id": "1e3aeee8-fc69-4408-9e9b-b5c1582c90fa",
   "metadata": {},
   "outputs": [
    {
     "data": {
      "text/plain": [
       "Index([  0,   1,   2,   3,   4,   5,   6,   7,   8,   9,\n",
       "       ...\n",
       "       340, 341, 342, 343, 344, 345, 346, 347, 348, 349],\n",
       "      dtype='int64', length=350)"
      ]
     },
     "execution_count": 34,
     "metadata": {},
     "output_type": "execute_result"
    }
   ],
   "source": [
    "newdf.index"
   ]
  },
  {
   "cell_type": "markdown",
   "id": "1990d6f5-98dd-460f-830f-fde34f38a931",
   "metadata": {},
   "source": [
    "this gives us the indexs of the dataframe"
   ]
  },
  {
   "cell_type": "code",
   "execution_count": 35,
   "id": "d49b53b1-a30e-45fc-9fa0-9f685768b6fc",
   "metadata": {},
   "outputs": [
    {
     "data": {
      "text/plain": [
       "RangeIndex(start=0, stop=5, step=1)"
      ]
     },
     "execution_count": 35,
     "metadata": {},
     "output_type": "execute_result"
    }
   ],
   "source": [
    "newdf.columns"
   ]
  },
  {
   "cell_type": "markdown",
   "id": "3c53b1db-8bcb-4755-9136-ad24634646f5",
   "metadata": {},
   "source": [
    "this gives us a range because it follows a common pattern, starting from 0 ending before 5 and taking one step at a time"
   ]
  }
 ],
 "metadata": {
  "kernelspec": {
   "display_name": "Python 3 (ipykernel)",
   "language": "python",
   "name": "python3"
  },
  "language_info": {
   "codemirror_mode": {
    "name": "ipython",
    "version": 3
   },
   "file_extension": ".py",
   "mimetype": "text/x-python",
   "name": "python",
   "nbconvert_exporter": "python",
   "pygments_lexer": "ipython3",
   "version": "3.13.7"
  }
 },
 "nbformat": 4,
 "nbformat_minor": 5
}
