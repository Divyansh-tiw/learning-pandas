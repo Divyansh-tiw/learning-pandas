{
 "cells": [
  {
   "cell_type": "code",
   "execution_count": 1,
   "id": "046673e9-f4b7-4bf0-ad77-1d16a3907a09",
   "metadata": {},
   "outputs": [],
   "source": [
    "import numpy as np\n",
    "import pandas as pd"
   ]
  },
  {
   "cell_type": "markdown",
   "id": "3a6307f5-c986-4c82-82d8-255a5f3e30be",
   "metadata": {},
   "source": [
    "# Data Structure in Pandas"
   ]
  },
  {
   "cell_type": "markdown",
   "id": "e463817c-b046-41bb-bbd7-32e279892dd0",
   "metadata": {},
   "source": [
    "Pandas mainly provides two core data structures, built on top of NumPy arrays:"
   ]
  },
  {
   "cell_type": "markdown",
   "id": "fa006aa6-a72f-47cd-b828-3474dccbed80",
   "metadata": {},
   "source": [
    "1. Series :\n",
    "    - It is an one dimentional labeled array\n",
    "    - It can hold data of any type\n",
    "    - Each element in series consists of index"
   ]
  },
  {
   "cell_type": "code",
   "execution_count": 2,
   "id": "99154e91-aef7-47f1-b572-359a81a58bb7",
   "metadata": {},
   "outputs": [],
   "source": [
    "s = pd.Series([10, 20, 30], index=[\"a\", \"b\", \"c\"])"
   ]
  },
  {
   "cell_type": "code",
   "execution_count": 3,
   "id": "5c2639c8-a1b0-41ed-b241-9b9d60cc67d9",
   "metadata": {},
   "outputs": [
    {
     "data": {
      "text/plain": [
       "a    10\n",
       "b    20\n",
       "c    30\n",
       "dtype: int64"
      ]
     },
     "execution_count": 3,
     "metadata": {},
     "output_type": "execute_result"
    }
   ],
   "source": [
    "s"
   ]
  },
  {
   "cell_type": "markdown",
   "id": "0aa42bb4-793d-4919-8ed6-b1e1a3798583",
   "metadata": {},
   "source": [
    "2. DataFrame\n",
    "    - It is an two dimentional labeled data structure ( like rows and columns )\n",
    "    - Each column in DataFrame is a Series Object\n",
    "    - It is heterogenous, i.e. each column can hold different type of data"
   ]
  },
  {
   "cell_type": "code",
   "execution_count": 4,
   "id": "8e4e047d-670a-47a1-bbe0-05739a8aa27f",
   "metadata": {},
   "outputs": [],
   "source": [
    "dict1 = {\n",
    "    \"name\" : ['divyansh', 'raj', 'himanshu', 'unnati', 'vivan', 'honey'],\n",
    "    \"marks\" : [21, 22, 23, 24, 25, 26],\n",
    "    \"city\" : ['azamgarh', 'kanpur', 'ambedkarnagar', 'azamgarh', 'ambedkarnagar', 'ambedkarnagar']\n",
    "}"
   ]
  },
  {
   "cell_type": "code",
   "execution_count": 5,
   "id": "3b2f3a5e-0404-473c-bf29-ae95fbc21f5f",
   "metadata": {},
   "outputs": [],
   "source": [
    "df = pd.DataFrame(dict1)"
   ]
  },
  {
   "cell_type": "code",
   "execution_count": 6,
   "id": "509e8b62-2307-4560-bb9d-a3ce80bf7a80",
   "metadata": {},
   "outputs": [
    {
     "data": {
      "text/html": [
       "<div>\n",
       "<style scoped>\n",
       "    .dataframe tbody tr th:only-of-type {\n",
       "        vertical-align: middle;\n",
       "    }\n",
       "\n",
       "    .dataframe tbody tr th {\n",
       "        vertical-align: top;\n",
       "    }\n",
       "\n",
       "    .dataframe thead th {\n",
       "        text-align: right;\n",
       "    }\n",
       "</style>\n",
       "<table border=\"1\" class=\"dataframe\">\n",
       "  <thead>\n",
       "    <tr style=\"text-align: right;\">\n",
       "      <th></th>\n",
       "      <th>name</th>\n",
       "      <th>marks</th>\n",
       "      <th>city</th>\n",
       "    </tr>\n",
       "  </thead>\n",
       "  <tbody>\n",
       "    <tr>\n",
       "      <th>0</th>\n",
       "      <td>divyansh</td>\n",
       "      <td>21</td>\n",
       "      <td>azamgarh</td>\n",
       "    </tr>\n",
       "    <tr>\n",
       "      <th>1</th>\n",
       "      <td>raj</td>\n",
       "      <td>22</td>\n",
       "      <td>kanpur</td>\n",
       "    </tr>\n",
       "    <tr>\n",
       "      <th>2</th>\n",
       "      <td>himanshu</td>\n",
       "      <td>23</td>\n",
       "      <td>ambedkarnagar</td>\n",
       "    </tr>\n",
       "    <tr>\n",
       "      <th>3</th>\n",
       "      <td>unnati</td>\n",
       "      <td>24</td>\n",
       "      <td>azamgarh</td>\n",
       "    </tr>\n",
       "    <tr>\n",
       "      <th>4</th>\n",
       "      <td>vivan</td>\n",
       "      <td>25</td>\n",
       "      <td>ambedkarnagar</td>\n",
       "    </tr>\n",
       "    <tr>\n",
       "      <th>5</th>\n",
       "      <td>honey</td>\n",
       "      <td>26</td>\n",
       "      <td>ambedkarnagar</td>\n",
       "    </tr>\n",
       "  </tbody>\n",
       "</table>\n",
       "</div>"
      ],
      "text/plain": [
       "       name  marks           city\n",
       "0  divyansh     21       azamgarh\n",
       "1       raj     22         kanpur\n",
       "2  himanshu     23  ambedkarnagar\n",
       "3    unnati     24       azamgarh\n",
       "4     vivan     25  ambedkarnagar\n",
       "5     honey     26  ambedkarnagar"
      ]
     },
     "execution_count": 6,
     "metadata": {},
     "output_type": "execute_result"
    }
   ],
   "source": [
    "df"
   ]
  },
  {
   "cell_type": "markdown",
   "id": "9fbcf462-d3a5-429e-92f3-924b5c5b0f4b",
   "metadata": {},
   "source": [
    "**pd.DataFrame(dict1)** calls the pandas constructor to convert that dictionary into a tabular format."
   ]
  },
  {
   "cell_type": "code",
   "execution_count": 7,
   "id": "8bd5bc73-bb21-4937-9643-ab18cce11d76",
   "metadata": {},
   "outputs": [],
   "source": [
    "df.to_csv('cousins.csv')"
   ]
  },
  {
   "cell_type": "markdown",
   "id": "676a7a2d-44dc-4eeb-b575-646115960ee9",
   "metadata": {},
   "source": [
    "this line of code converts the dictionary into a csv file "
   ]
  },
  {
   "cell_type": "markdown",
   "id": "c14e2add-21e4-4582-942f-2d8333738307",
   "metadata": {},
   "source": [
    "but this basic code gives the index in the csv file too, to disable it, you'll have to use index=False"
   ]
  },
  {
   "cell_type": "code",
   "execution_count": 8,
   "id": "d767e9dd-6b9f-4969-ba59-4aaf5cbab278",
   "metadata": {},
   "outputs": [],
   "source": [
    "df.to_csv('cousins_no_index.csv', index=False)"
   ]
  },
  {
   "cell_type": "markdown",
   "id": "7e24adbb-8240-490c-9b37-1abe7e428e5c",
   "metadata": {},
   "source": [
    "this gives us a file without any indexing"
   ]
  },
  {
   "cell_type": "code",
   "execution_count": 9,
   "id": "6833e076-869c-4072-9354-5da92076c27c",
   "metadata": {},
   "outputs": [
    {
     "data": {
      "text/html": [
       "<div>\n",
       "<style scoped>\n",
       "    .dataframe tbody tr th:only-of-type {\n",
       "        vertical-align: middle;\n",
       "    }\n",
       "\n",
       "    .dataframe tbody tr th {\n",
       "        vertical-align: top;\n",
       "    }\n",
       "\n",
       "    .dataframe thead th {\n",
       "        text-align: right;\n",
       "    }\n",
       "</style>\n",
       "<table border=\"1\" class=\"dataframe\">\n",
       "  <thead>\n",
       "    <tr style=\"text-align: right;\">\n",
       "      <th></th>\n",
       "      <th>name</th>\n",
       "      <th>marks</th>\n",
       "      <th>city</th>\n",
       "    </tr>\n",
       "  </thead>\n",
       "  <tbody>\n",
       "    <tr>\n",
       "      <th>0</th>\n",
       "      <td>divyansh</td>\n",
       "      <td>21</td>\n",
       "      <td>azamgarh</td>\n",
       "    </tr>\n",
       "    <tr>\n",
       "      <th>1</th>\n",
       "      <td>raj</td>\n",
       "      <td>22</td>\n",
       "      <td>kanpur</td>\n",
       "    </tr>\n",
       "  </tbody>\n",
       "</table>\n",
       "</div>"
      ],
      "text/plain": [
       "       name  marks      city\n",
       "0  divyansh     21  azamgarh\n",
       "1       raj     22    kanpur"
      ]
     },
     "execution_count": 9,
     "metadata": {},
     "output_type": "execute_result"
    }
   ],
   "source": [
    "df.head(2)"
   ]
  },
  {
   "cell_type": "markdown",
   "id": "01bc51cb-3a12-4e7e-9c45-aadcc8ff7286",
   "metadata": {},
   "source": [
    "this line of code shows us the first two lines of the dataframe"
   ]
  },
  {
   "cell_type": "code",
   "execution_count": 10,
   "id": "58f6d647-c167-46c5-9d8d-f67e8c58e847",
   "metadata": {},
   "outputs": [
    {
     "data": {
      "text/html": [
       "<div>\n",
       "<style scoped>\n",
       "    .dataframe tbody tr th:only-of-type {\n",
       "        vertical-align: middle;\n",
       "    }\n",
       "\n",
       "    .dataframe tbody tr th {\n",
       "        vertical-align: top;\n",
       "    }\n",
       "\n",
       "    .dataframe thead th {\n",
       "        text-align: right;\n",
       "    }\n",
       "</style>\n",
       "<table border=\"1\" class=\"dataframe\">\n",
       "  <thead>\n",
       "    <tr style=\"text-align: right;\">\n",
       "      <th></th>\n",
       "      <th>name</th>\n",
       "      <th>marks</th>\n",
       "      <th>city</th>\n",
       "    </tr>\n",
       "  </thead>\n",
       "  <tbody>\n",
       "    <tr>\n",
       "      <th>4</th>\n",
       "      <td>vivan</td>\n",
       "      <td>25</td>\n",
       "      <td>ambedkarnagar</td>\n",
       "    </tr>\n",
       "    <tr>\n",
       "      <th>5</th>\n",
       "      <td>honey</td>\n",
       "      <td>26</td>\n",
       "      <td>ambedkarnagar</td>\n",
       "    </tr>\n",
       "  </tbody>\n",
       "</table>\n",
       "</div>"
      ],
      "text/plain": [
       "    name  marks           city\n",
       "4  vivan     25  ambedkarnagar\n",
       "5  honey     26  ambedkarnagar"
      ]
     },
     "execution_count": 10,
     "metadata": {},
     "output_type": "execute_result"
    }
   ],
   "source": [
    "df.tail(2)"
   ]
  },
  {
   "cell_type": "markdown",
   "id": "d05e0c74-22ee-465f-94aa-be1e10de5613",
   "metadata": {},
   "source": [
    "this code shows us the last two lines of dataframe"
   ]
  },
  {
   "cell_type": "code",
   "execution_count": 11,
   "id": "ef4b7480-3674-407f-aa8b-ee998a99c8b6",
   "metadata": {},
   "outputs": [
    {
     "data": {
      "text/html": [
       "<div>\n",
       "<style scoped>\n",
       "    .dataframe tbody tr th:only-of-type {\n",
       "        vertical-align: middle;\n",
       "    }\n",
       "\n",
       "    .dataframe tbody tr th {\n",
       "        vertical-align: top;\n",
       "    }\n",
       "\n",
       "    .dataframe thead th {\n",
       "        text-align: right;\n",
       "    }\n",
       "</style>\n",
       "<table border=\"1\" class=\"dataframe\">\n",
       "  <thead>\n",
       "    <tr style=\"text-align: right;\">\n",
       "      <th></th>\n",
       "      <th>name</th>\n",
       "      <th>marks</th>\n",
       "      <th>city</th>\n",
       "    </tr>\n",
       "  </thead>\n",
       "  <tbody>\n",
       "    <tr>\n",
       "      <th>1</th>\n",
       "      <td>raj</td>\n",
       "      <td>22</td>\n",
       "      <td>kanpur</td>\n",
       "    </tr>\n",
       "    <tr>\n",
       "      <th>2</th>\n",
       "      <td>himanshu</td>\n",
       "      <td>23</td>\n",
       "      <td>ambedkarnagar</td>\n",
       "    </tr>\n",
       "  </tbody>\n",
       "</table>\n",
       "</div>"
      ],
      "text/plain": [
       "       name  marks           city\n",
       "1       raj     22         kanpur\n",
       "2  himanshu     23  ambedkarnagar"
      ]
     },
     "execution_count": 11,
     "metadata": {},
     "output_type": "execute_result"
    }
   ],
   "source": [
    "df.iloc[1:3]"
   ]
  },
  {
   "cell_type": "markdown",
   "id": "8fb4f234-c99f-4c93-9e0b-bc74c3e8c248",
   "metadata": {},
   "source": [
    "this is used to show the dataframe from one index to another, the last index is exclusive in this"
   ]
  },
  {
   "cell_type": "code",
   "execution_count": 12,
   "id": "5ae117b1-3274-4aa8-8a7c-f3b562c1839e",
   "metadata": {},
   "outputs": [
    {
     "data": {
      "text/html": [
       "<div>\n",
       "<style scoped>\n",
       "    .dataframe tbody tr th:only-of-type {\n",
       "        vertical-align: middle;\n",
       "    }\n",
       "\n",
       "    .dataframe tbody tr th {\n",
       "        vertical-align: top;\n",
       "    }\n",
       "\n",
       "    .dataframe thead th {\n",
       "        text-align: right;\n",
       "    }\n",
       "</style>\n",
       "<table border=\"1\" class=\"dataframe\">\n",
       "  <thead>\n",
       "    <tr style=\"text-align: right;\">\n",
       "      <th></th>\n",
       "      <th>name</th>\n",
       "      <th>marks</th>\n",
       "      <th>city</th>\n",
       "    </tr>\n",
       "  </thead>\n",
       "  <tbody>\n",
       "    <tr>\n",
       "      <th>1</th>\n",
       "      <td>raj</td>\n",
       "      <td>22</td>\n",
       "      <td>kanpur</td>\n",
       "    </tr>\n",
       "    <tr>\n",
       "      <th>2</th>\n",
       "      <td>himanshu</td>\n",
       "      <td>23</td>\n",
       "      <td>ambedkarnagar</td>\n",
       "    </tr>\n",
       "    <tr>\n",
       "      <th>3</th>\n",
       "      <td>unnati</td>\n",
       "      <td>24</td>\n",
       "      <td>azamgarh</td>\n",
       "    </tr>\n",
       "  </tbody>\n",
       "</table>\n",
       "</div>"
      ],
      "text/plain": [
       "       name  marks           city\n",
       "1       raj     22         kanpur\n",
       "2  himanshu     23  ambedkarnagar\n",
       "3    unnati     24       azamgarh"
      ]
     },
     "execution_count": 12,
     "metadata": {},
     "output_type": "execute_result"
    }
   ],
   "source": [
    "df.loc[1:3]"
   ]
  },
  {
   "cell_type": "markdown",
   "id": "ecfab472-f26a-456b-8d27-3b8069a2a7d5",
   "metadata": {},
   "source": [
    "here the last index is inclusive"
   ]
  },
  {
   "cell_type": "code",
   "execution_count": 13,
   "id": "fe8f8f09-ed1a-44d2-9889-347c0f97de38",
   "metadata": {},
   "outputs": [
    {
     "data": {
      "text/html": [
       "<div>\n",
       "<style scoped>\n",
       "    .dataframe tbody tr th:only-of-type {\n",
       "        vertical-align: middle;\n",
       "    }\n",
       "\n",
       "    .dataframe tbody tr th {\n",
       "        vertical-align: top;\n",
       "    }\n",
       "\n",
       "    .dataframe thead th {\n",
       "        text-align: right;\n",
       "    }\n",
       "</style>\n",
       "<table border=\"1\" class=\"dataframe\">\n",
       "  <thead>\n",
       "    <tr style=\"text-align: right;\">\n",
       "      <th></th>\n",
       "      <th>marks</th>\n",
       "    </tr>\n",
       "  </thead>\n",
       "  <tbody>\n",
       "    <tr>\n",
       "      <th>count</th>\n",
       "      <td>6.000000</td>\n",
       "    </tr>\n",
       "    <tr>\n",
       "      <th>mean</th>\n",
       "      <td>23.500000</td>\n",
       "    </tr>\n",
       "    <tr>\n",
       "      <th>std</th>\n",
       "      <td>1.870829</td>\n",
       "    </tr>\n",
       "    <tr>\n",
       "      <th>min</th>\n",
       "      <td>21.000000</td>\n",
       "    </tr>\n",
       "    <tr>\n",
       "      <th>25%</th>\n",
       "      <td>22.250000</td>\n",
       "    </tr>\n",
       "    <tr>\n",
       "      <th>50%</th>\n",
       "      <td>23.500000</td>\n",
       "    </tr>\n",
       "    <tr>\n",
       "      <th>75%</th>\n",
       "      <td>24.750000</td>\n",
       "    </tr>\n",
       "    <tr>\n",
       "      <th>max</th>\n",
       "      <td>26.000000</td>\n",
       "    </tr>\n",
       "  </tbody>\n",
       "</table>\n",
       "</div>"
      ],
      "text/plain": [
       "           marks\n",
       "count   6.000000\n",
       "mean   23.500000\n",
       "std     1.870829\n",
       "min    21.000000\n",
       "25%    22.250000\n",
       "50%    23.500000\n",
       "75%    24.750000\n",
       "max    26.000000"
      ]
     },
     "execution_count": 13,
     "metadata": {},
     "output_type": "execute_result"
    }
   ],
   "source": [
    "df.describe()"
   ]
  },
  {
   "cell_type": "markdown",
   "id": "0ab6883f-a6fd-4e52-976b-21cf4f3561e7",
   "metadata": {},
   "source": [
    "this line of code generates the stats of your dataframe (only works for numerical data by default)"
   ]
  },
  {
   "cell_type": "markdown",
   "id": "f87c0b01-cd45-4b77-a22b-2aa65fe751b0",
   "metadata": {},
   "source": [
    "here are the explanation of what each row means\n",
    "\n",
    "- **count** → number of non-null entries\n",
    "- **mean** → average value\n",
    "- **std** → standard deviation (spread of values)\n",
    "- **min** → smallest value\n",
    "- **25%** → 1st quartile (25% of values below this)\n",
    "- **50%** → median (middle value)\n",
    "- **75%** → 3rd quartile (75% of values below this)\n",
    "- **max** → largest value"
   ]
  },
  {
   "cell_type": "code",
   "execution_count": 14,
   "id": "8cbe465c-69aa-482d-b8ad-a9890bc7e903",
   "metadata": {},
   "outputs": [],
   "source": [
    "tr = pd.read_csv('trains.csv')"
   ]
  },
  {
   "cell_type": "code",
   "execution_count": 15,
   "id": "01027320-7899-4ff6-99ce-b659d28abcc1",
   "metadata": {},
   "outputs": [
    {
     "data": {
      "text/html": [
       "<div>\n",
       "<style scoped>\n",
       "    .dataframe tbody tr th:only-of-type {\n",
       "        vertical-align: middle;\n",
       "    }\n",
       "\n",
       "    .dataframe tbody tr th {\n",
       "        vertical-align: top;\n",
       "    }\n",
       "\n",
       "    .dataframe thead th {\n",
       "        text-align: right;\n",
       "    }\n",
       "</style>\n",
       "<table border=\"1\" class=\"dataframe\">\n",
       "  <thead>\n",
       "    <tr style=\"text-align: right;\">\n",
       "      <th></th>\n",
       "      <th>Unnamed: 0.2</th>\n",
       "      <th>Unnamed: 0.1</th>\n",
       "      <th>Unnamed: 0</th>\n",
       "      <th>Source</th>\n",
       "      <th>Destination</th>\n",
       "      <th>Train_Name</th>\n",
       "      <th>Speed_kmph</th>\n",
       "      <th>Distance_km</th>\n",
       "    </tr>\n",
       "  </thead>\n",
       "  <tbody>\n",
       "    <tr>\n",
       "      <th>0</th>\n",
       "      <td>0</td>\n",
       "      <td>0</td>\n",
       "      <td>0</td>\n",
       "      <td>New Delhi</td>\n",
       "      <td>Mumbai Central</td>\n",
       "      <td>Rajdhani Express</td>\n",
       "      <td>100</td>\n",
       "      <td>1384</td>\n",
       "    </tr>\n",
       "    <tr>\n",
       "      <th>1</th>\n",
       "      <td>1</td>\n",
       "      <td>1</td>\n",
       "      <td>1</td>\n",
       "      <td>Howrah</td>\n",
       "      <td>Chennai</td>\n",
       "      <td>Coromandel Express</td>\n",
       "      <td>80</td>\n",
       "      <td>1659</td>\n",
       "    </tr>\n",
       "    <tr>\n",
       "      <th>2</th>\n",
       "      <td>2</td>\n",
       "      <td>2</td>\n",
       "      <td>2</td>\n",
       "      <td>Bangalore City</td>\n",
       "      <td>Hyderabad</td>\n",
       "      <td>Kacheguda Express</td>\n",
       "      <td>70</td>\n",
       "      <td>707</td>\n",
       "    </tr>\n",
       "    <tr>\n",
       "      <th>3</th>\n",
       "      <td>3</td>\n",
       "      <td>3</td>\n",
       "      <td>3</td>\n",
       "      <td>Ahmedabad</td>\n",
       "      <td>Jaipur</td>\n",
       "      <td>Aravalli Express</td>\n",
       "      <td>65</td>\n",
       "      <td>632</td>\n",
       "    </tr>\n",
       "    <tr>\n",
       "      <th>4</th>\n",
       "      <td>4</td>\n",
       "      <td>4</td>\n",
       "      <td>4</td>\n",
       "      <td>Kolkata</td>\n",
       "      <td>Patna</td>\n",
       "      <td>Shatabdi Express</td>\n",
       "      <td>85</td>\n",
       "      <td>532</td>\n",
       "    </tr>\n",
       "  </tbody>\n",
       "</table>\n",
       "</div>"
      ],
      "text/plain": [
       "   Unnamed: 0.2  Unnamed: 0.1  Unnamed: 0          Source     Destination  \\\n",
       "0             0             0           0       New Delhi  Mumbai Central   \n",
       "1             1             1           1          Howrah         Chennai   \n",
       "2             2             2           2  Bangalore City       Hyderabad   \n",
       "3             3             3           3       Ahmedabad          Jaipur   \n",
       "4             4             4           4         Kolkata           Patna   \n",
       "\n",
       "           Train_Name  Speed_kmph  Distance_km  \n",
       "0    Rajdhani Express         100         1384  \n",
       "1  Coromandel Express          80         1659  \n",
       "2   Kacheguda Express          70          707  \n",
       "3    Aravalli Express          65          632  \n",
       "4    Shatabdi Express          85          532  "
      ]
     },
     "execution_count": 15,
     "metadata": {},
     "output_type": "execute_result"
    }
   ],
   "source": [
    "tr"
   ]
  },
  {
   "cell_type": "markdown",
   "id": "eef62f71-8e79-49e1-96ea-a9782cc45b69",
   "metadata": {},
   "source": [
    "read_csv is used to read csv file present in the folder and this also helps us to allot the data of that csv file to any variable"
   ]
  },
  {
   "cell_type": "code",
   "execution_count": 16,
   "id": "1ce4b887-0dc4-4079-9c4f-9357fb511eec",
   "metadata": {},
   "outputs": [
    {
     "data": {
      "text/plain": [
       "0         New Delhi\n",
       "1            Howrah\n",
       "2    Bangalore City\n",
       "3         Ahmedabad\n",
       "4           Kolkata\n",
       "Name: Source, dtype: object"
      ]
     },
     "execution_count": 16,
     "metadata": {},
     "output_type": "execute_result"
    }
   ],
   "source": [
    "tr['Source']"
   ]
  },
  {
   "cell_type": "markdown",
   "id": "13b0eb25-7f47-447e-a170-b910857ef362",
   "metadata": {},
   "source": [
    "we can get info of certain columns by using their names"
   ]
  },
  {
   "cell_type": "code",
   "execution_count": 17,
   "id": "6d77c346-7864-417a-9439-9d97a9266422",
   "metadata": {},
   "outputs": [
    {
     "data": {
      "text/plain": [
       "np.int64(1659)"
      ]
     },
     "execution_count": 17,
     "metadata": {},
     "output_type": "execute_result"
    }
   ],
   "source": [
    "tr['Distance_km'][1]"
   ]
  },
  {
   "cell_type": "markdown",
   "id": "8789d5f6-7be5-412b-a067-06de4caddd78",
   "metadata": {},
   "source": [
    "we can also get certain elements by using the column and index"
   ]
  },
  {
   "cell_type": "markdown",
   "id": "02fbc891-9932-4bec-8f6f-cbe0674961c6",
   "metadata": {},
   "source": [
    "this can also be used to change certain elements"
   ]
  },
  {
   "cell_type": "code",
   "execution_count": 18,
   "id": "3e62471c-8926-4049-a4dc-5061457bd9d5",
   "metadata": {},
   "outputs": [
    {
     "name": "stderr",
     "output_type": "stream",
     "text": [
      "C:\\Users\\Divyansh Tiwari\\AppData\\Local\\Temp\\ipykernel_4972\\3590987952.py:1: FutureWarning: ChainedAssignmentError: behaviour will change in pandas 3.0!\n",
      "You are setting values through chained assignment. Currently this works in certain cases, but when using Copy-on-Write (which will become the default behaviour in pandas 3.0) this will never work to update the original DataFrame or Series, because the intermediate object on which we are setting values will behave as a copy.\n",
      "A typical example is when you are setting values in a column of a DataFrame, like:\n",
      "\n",
      "df[\"col\"][row_indexer] = value\n",
      "\n",
      "Use `df.loc[row_indexer, \"col\"] = values` instead, to perform the assignment in a single step and ensure this keeps updating the original `df`.\n",
      "\n",
      "See the caveats in the documentation: https://pandas.pydata.org/pandas-docs/stable/user_guide/indexing.html#returning-a-view-versus-a-copy\n",
      "\n",
      "  tr['Speed_kmph'][0] = 100\n",
      "C:\\Users\\Divyansh Tiwari\\AppData\\Local\\Temp\\ipykernel_4972\\3590987952.py:1: SettingWithCopyWarning: \n",
      "A value is trying to be set on a copy of a slice from a DataFrame\n",
      "\n",
      "See the caveats in the documentation: https://pandas.pydata.org/pandas-docs/stable/user_guide/indexing.html#returning-a-view-versus-a-copy\n",
      "  tr['Speed_kmph'][0] = 100\n"
     ]
    }
   ],
   "source": [
    "tr['Speed_kmph'][0] = 100"
   ]
  },
  {
   "cell_type": "markdown",
   "id": "c0f98442-5a17-4d04-8374-ff403a0ac63f",
   "metadata": {},
   "source": [
    "this code will give us a warning about setting a value on a slice"
   ]
  },
  {
   "cell_type": "code",
   "execution_count": 19,
   "id": "b50da57e-a67e-423e-8bb1-0c4c7edcd1fd",
   "metadata": {},
   "outputs": [
    {
     "data": {
      "text/html": [
       "<div>\n",
       "<style scoped>\n",
       "    .dataframe tbody tr th:only-of-type {\n",
       "        vertical-align: middle;\n",
       "    }\n",
       "\n",
       "    .dataframe tbody tr th {\n",
       "        vertical-align: top;\n",
       "    }\n",
       "\n",
       "    .dataframe thead th {\n",
       "        text-align: right;\n",
       "    }\n",
       "</style>\n",
       "<table border=\"1\" class=\"dataframe\">\n",
       "  <thead>\n",
       "    <tr style=\"text-align: right;\">\n",
       "      <th></th>\n",
       "      <th>Unnamed: 0.2</th>\n",
       "      <th>Unnamed: 0.1</th>\n",
       "      <th>Unnamed: 0</th>\n",
       "      <th>Source</th>\n",
       "      <th>Destination</th>\n",
       "      <th>Train_Name</th>\n",
       "      <th>Speed_kmph</th>\n",
       "      <th>Distance_km</th>\n",
       "    </tr>\n",
       "  </thead>\n",
       "  <tbody>\n",
       "    <tr>\n",
       "      <th>0</th>\n",
       "      <td>0</td>\n",
       "      <td>0</td>\n",
       "      <td>0</td>\n",
       "      <td>New Delhi</td>\n",
       "      <td>Mumbai Central</td>\n",
       "      <td>Rajdhani Express</td>\n",
       "      <td>100</td>\n",
       "      <td>1384</td>\n",
       "    </tr>\n",
       "    <tr>\n",
       "      <th>1</th>\n",
       "      <td>1</td>\n",
       "      <td>1</td>\n",
       "      <td>1</td>\n",
       "      <td>Howrah</td>\n",
       "      <td>Chennai</td>\n",
       "      <td>Coromandel Express</td>\n",
       "      <td>80</td>\n",
       "      <td>1659</td>\n",
       "    </tr>\n",
       "    <tr>\n",
       "      <th>2</th>\n",
       "      <td>2</td>\n",
       "      <td>2</td>\n",
       "      <td>2</td>\n",
       "      <td>Bangalore City</td>\n",
       "      <td>Hyderabad</td>\n",
       "      <td>Kacheguda Express</td>\n",
       "      <td>70</td>\n",
       "      <td>707</td>\n",
       "    </tr>\n",
       "    <tr>\n",
       "      <th>3</th>\n",
       "      <td>3</td>\n",
       "      <td>3</td>\n",
       "      <td>3</td>\n",
       "      <td>Ahmedabad</td>\n",
       "      <td>Jaipur</td>\n",
       "      <td>Aravalli Express</td>\n",
       "      <td>65</td>\n",
       "      <td>632</td>\n",
       "    </tr>\n",
       "    <tr>\n",
       "      <th>4</th>\n",
       "      <td>4</td>\n",
       "      <td>4</td>\n",
       "      <td>4</td>\n",
       "      <td>Kolkata</td>\n",
       "      <td>Patna</td>\n",
       "      <td>Shatabdi Express</td>\n",
       "      <td>85</td>\n",
       "      <td>532</td>\n",
       "    </tr>\n",
       "  </tbody>\n",
       "</table>\n",
       "</div>"
      ],
      "text/plain": [
       "   Unnamed: 0.2  Unnamed: 0.1  Unnamed: 0          Source     Destination  \\\n",
       "0             0             0           0       New Delhi  Mumbai Central   \n",
       "1             1             1           1          Howrah         Chennai   \n",
       "2             2             2           2  Bangalore City       Hyderabad   \n",
       "3             3             3           3       Ahmedabad          Jaipur   \n",
       "4             4             4           4         Kolkata           Patna   \n",
       "\n",
       "           Train_Name  Speed_kmph  Distance_km  \n",
       "0    Rajdhani Express         100         1384  \n",
       "1  Coromandel Express          80         1659  \n",
       "2   Kacheguda Express          70          707  \n",
       "3    Aravalli Express          65          632  \n",
       "4    Shatabdi Express          85          532  "
      ]
     },
     "execution_count": 19,
     "metadata": {},
     "output_type": "execute_result"
    }
   ],
   "source": [
    "tr"
   ]
  },
  {
   "cell_type": "markdown",
   "id": "16541b3d-a104-4a7f-b2ce-2693ca62690c",
   "metadata": {},
   "source": [
    "but that line will change the element nonetheless"
   ]
  },
  {
   "cell_type": "code",
   "execution_count": 20,
   "id": "2796b9bf-0c51-4474-89af-50cd047ae20f",
   "metadata": {},
   "outputs": [],
   "source": [
    "tr.to_csv('trains.csv')"
   ]
  },
  {
   "cell_type": "markdown",
   "id": "e69935a9-88bc-40f0-aa6d-f18f629b442d",
   "metadata": {},
   "source": [
    "this is to update the original csv file"
   ]
  },
  {
   "cell_type": "code",
   "execution_count": 21,
   "id": "2aa0b2b8-cfb3-419b-b7d1-21329619037f",
   "metadata": {},
   "outputs": [],
   "source": [
    "tr.index = ['I', 'II', 'III', 'IV', 'v']"
   ]
  },
  {
   "cell_type": "code",
   "execution_count": 22,
   "id": "4d6d4b93-eab1-460f-b0b6-aa6c43b45c38",
   "metadata": {},
   "outputs": [
    {
     "data": {
      "text/html": [
       "<div>\n",
       "<style scoped>\n",
       "    .dataframe tbody tr th:only-of-type {\n",
       "        vertical-align: middle;\n",
       "    }\n",
       "\n",
       "    .dataframe tbody tr th {\n",
       "        vertical-align: top;\n",
       "    }\n",
       "\n",
       "    .dataframe thead th {\n",
       "        text-align: right;\n",
       "    }\n",
       "</style>\n",
       "<table border=\"1\" class=\"dataframe\">\n",
       "  <thead>\n",
       "    <tr style=\"text-align: right;\">\n",
       "      <th></th>\n",
       "      <th>Unnamed: 0.2</th>\n",
       "      <th>Unnamed: 0.1</th>\n",
       "      <th>Unnamed: 0</th>\n",
       "      <th>Source</th>\n",
       "      <th>Destination</th>\n",
       "      <th>Train_Name</th>\n",
       "      <th>Speed_kmph</th>\n",
       "      <th>Distance_km</th>\n",
       "    </tr>\n",
       "  </thead>\n",
       "  <tbody>\n",
       "    <tr>\n",
       "      <th>I</th>\n",
       "      <td>0</td>\n",
       "      <td>0</td>\n",
       "      <td>0</td>\n",
       "      <td>New Delhi</td>\n",
       "      <td>Mumbai Central</td>\n",
       "      <td>Rajdhani Express</td>\n",
       "      <td>100</td>\n",
       "      <td>1384</td>\n",
       "    </tr>\n",
       "    <tr>\n",
       "      <th>II</th>\n",
       "      <td>1</td>\n",
       "      <td>1</td>\n",
       "      <td>1</td>\n",
       "      <td>Howrah</td>\n",
       "      <td>Chennai</td>\n",
       "      <td>Coromandel Express</td>\n",
       "      <td>80</td>\n",
       "      <td>1659</td>\n",
       "    </tr>\n",
       "    <tr>\n",
       "      <th>III</th>\n",
       "      <td>2</td>\n",
       "      <td>2</td>\n",
       "      <td>2</td>\n",
       "      <td>Bangalore City</td>\n",
       "      <td>Hyderabad</td>\n",
       "      <td>Kacheguda Express</td>\n",
       "      <td>70</td>\n",
       "      <td>707</td>\n",
       "    </tr>\n",
       "    <tr>\n",
       "      <th>IV</th>\n",
       "      <td>3</td>\n",
       "      <td>3</td>\n",
       "      <td>3</td>\n",
       "      <td>Ahmedabad</td>\n",
       "      <td>Jaipur</td>\n",
       "      <td>Aravalli Express</td>\n",
       "      <td>65</td>\n",
       "      <td>632</td>\n",
       "    </tr>\n",
       "    <tr>\n",
       "      <th>v</th>\n",
       "      <td>4</td>\n",
       "      <td>4</td>\n",
       "      <td>4</td>\n",
       "      <td>Kolkata</td>\n",
       "      <td>Patna</td>\n",
       "      <td>Shatabdi Express</td>\n",
       "      <td>85</td>\n",
       "      <td>532</td>\n",
       "    </tr>\n",
       "  </tbody>\n",
       "</table>\n",
       "</div>"
      ],
      "text/plain": [
       "     Unnamed: 0.2  Unnamed: 0.1  Unnamed: 0          Source     Destination  \\\n",
       "I               0             0           0       New Delhi  Mumbai Central   \n",
       "II              1             1           1          Howrah         Chennai   \n",
       "III             2             2           2  Bangalore City       Hyderabad   \n",
       "IV              3             3           3       Ahmedabad          Jaipur   \n",
       "v               4             4           4         Kolkata           Patna   \n",
       "\n",
       "             Train_Name  Speed_kmph  Distance_km  \n",
       "I      Rajdhani Express         100         1384  \n",
       "II   Coromandel Express          80         1659  \n",
       "III   Kacheguda Express          70          707  \n",
       "IV     Aravalli Express          65          632  \n",
       "v      Shatabdi Express          85          532  "
      ]
     },
     "execution_count": 22,
     "metadata": {},
     "output_type": "execute_result"
    }
   ],
   "source": [
    "tr"
   ]
  },
  {
   "cell_type": "markdown",
   "id": "43842053-6718-4ed1-9d19-d1b3bf82c004",
   "metadata": {},
   "source": [
    "this line of code shows that index doesn't have to be a numerical value"
   ]
  },
  {
   "cell_type": "markdown",
   "id": "38be1643-6b1f-40c1-ad17-58a033ae67b3",
   "metadata": {},
   "source": [
    "# Understading the difference between Series and DataFrame"
   ]
  },
  {
   "cell_type": "code",
   "execution_count": 23,
   "id": "0945d4e1-6e51-4113-8d63-eb78b94b4cf8",
   "metadata": {},
   "outputs": [],
   "source": [
    "ser = pd.Series(np.random.rand(10))"
   ]
  },
  {
   "cell_type": "code",
   "execution_count": 24,
   "id": "b4c46387-a240-4f11-b16c-a20b33b432d4",
   "metadata": {},
   "outputs": [
    {
     "data": {
      "text/plain": [
       "0    0.574287\n",
       "1    0.169995\n",
       "2    0.012057\n",
       "3    0.195279\n",
       "4    0.844033\n",
       "5    0.086473\n",
       "6    0.843749\n",
       "7    0.562117\n",
       "8    0.096528\n",
       "9    0.324634\n",
       "dtype: float64"
      ]
     },
     "execution_count": 24,
     "metadata": {},
     "output_type": "execute_result"
    }
   ],
   "source": [
    "ser"
   ]
  },
  {
   "cell_type": "markdown",
   "id": "268a51a9-84a1-41ec-8102-f7f8000c5c1d",
   "metadata": {},
   "source": [
    "we have generated a series of 10 random floating point numbers"
   ]
  },
  {
   "cell_type": "code",
   "execution_count": 25,
   "id": "4d446c27-e1a2-4dfe-a518-3a84be74ea85",
   "metadata": {},
   "outputs": [
    {
     "data": {
      "text/plain": [
       "pandas.core.series.Series"
      ]
     },
     "execution_count": 25,
     "metadata": {},
     "output_type": "execute_result"
    }
   ],
   "source": [
    "type(ser)"
   ]
  },
  {
   "cell_type": "markdown",
   "id": "1b5e6fc1-6c2c-4df1-867c-41dc3e944a7f",
   "metadata": {},
   "source": [
    "this shows us that the given data structure is a series"
   ]
  },
  {
   "cell_type": "code",
   "execution_count": 26,
   "id": "195e92e1-73c1-45c6-97f6-d8204ab4646a",
   "metadata": {},
   "outputs": [],
   "source": [
    "newdf = pd.DataFrame(np.random.rand(350, 5), index = np.arange(350))"
   ]
  },
  {
   "cell_type": "code",
   "execution_count": 27,
   "id": "c3ec3231-a55e-4295-a953-b95aa7589f1a",
   "metadata": {},
   "outputs": [
    {
     "data": {
      "text/html": [
       "<div>\n",
       "<style scoped>\n",
       "    .dataframe tbody tr th:only-of-type {\n",
       "        vertical-align: middle;\n",
       "    }\n",
       "\n",
       "    .dataframe tbody tr th {\n",
       "        vertical-align: top;\n",
       "    }\n",
       "\n",
       "    .dataframe thead th {\n",
       "        text-align: right;\n",
       "    }\n",
       "</style>\n",
       "<table border=\"1\" class=\"dataframe\">\n",
       "  <thead>\n",
       "    <tr style=\"text-align: right;\">\n",
       "      <th></th>\n",
       "      <th>0</th>\n",
       "      <th>1</th>\n",
       "      <th>2</th>\n",
       "      <th>3</th>\n",
       "      <th>4</th>\n",
       "    </tr>\n",
       "  </thead>\n",
       "  <tbody>\n",
       "    <tr>\n",
       "      <th>0</th>\n",
       "      <td>0.177624</td>\n",
       "      <td>0.778557</td>\n",
       "      <td>0.200340</td>\n",
       "      <td>0.195448</td>\n",
       "      <td>0.363447</td>\n",
       "    </tr>\n",
       "    <tr>\n",
       "      <th>1</th>\n",
       "      <td>0.526906</td>\n",
       "      <td>0.893492</td>\n",
       "      <td>0.512165</td>\n",
       "      <td>0.714076</td>\n",
       "      <td>0.949962</td>\n",
       "    </tr>\n",
       "    <tr>\n",
       "      <th>2</th>\n",
       "      <td>0.790889</td>\n",
       "      <td>0.501086</td>\n",
       "      <td>0.507695</td>\n",
       "      <td>0.594873</td>\n",
       "      <td>0.074365</td>\n",
       "    </tr>\n",
       "    <tr>\n",
       "      <th>3</th>\n",
       "      <td>0.130050</td>\n",
       "      <td>0.883883</td>\n",
       "      <td>0.189677</td>\n",
       "      <td>0.210901</td>\n",
       "      <td>0.184302</td>\n",
       "    </tr>\n",
       "    <tr>\n",
       "      <th>4</th>\n",
       "      <td>0.334504</td>\n",
       "      <td>0.991274</td>\n",
       "      <td>0.895157</td>\n",
       "      <td>0.564080</td>\n",
       "      <td>0.238093</td>\n",
       "    </tr>\n",
       "    <tr>\n",
       "      <th>...</th>\n",
       "      <td>...</td>\n",
       "      <td>...</td>\n",
       "      <td>...</td>\n",
       "      <td>...</td>\n",
       "      <td>...</td>\n",
       "    </tr>\n",
       "    <tr>\n",
       "      <th>345</th>\n",
       "      <td>0.298504</td>\n",
       "      <td>0.245950</td>\n",
       "      <td>0.912893</td>\n",
       "      <td>0.197826</td>\n",
       "      <td>0.749297</td>\n",
       "    </tr>\n",
       "    <tr>\n",
       "      <th>346</th>\n",
       "      <td>0.570009</td>\n",
       "      <td>0.622063</td>\n",
       "      <td>0.282763</td>\n",
       "      <td>0.143820</td>\n",
       "      <td>0.086370</td>\n",
       "    </tr>\n",
       "    <tr>\n",
       "      <th>347</th>\n",
       "      <td>0.169717</td>\n",
       "      <td>0.754974</td>\n",
       "      <td>0.580899</td>\n",
       "      <td>0.289374</td>\n",
       "      <td>0.944199</td>\n",
       "    </tr>\n",
       "    <tr>\n",
       "      <th>348</th>\n",
       "      <td>0.269581</td>\n",
       "      <td>0.483395</td>\n",
       "      <td>0.581462</td>\n",
       "      <td>0.092624</td>\n",
       "      <td>0.687910</td>\n",
       "    </tr>\n",
       "    <tr>\n",
       "      <th>349</th>\n",
       "      <td>0.775336</td>\n",
       "      <td>0.217291</td>\n",
       "      <td>0.225235</td>\n",
       "      <td>0.426016</td>\n",
       "      <td>0.061213</td>\n",
       "    </tr>\n",
       "  </tbody>\n",
       "</table>\n",
       "<p>350 rows × 5 columns</p>\n",
       "</div>"
      ],
      "text/plain": [
       "            0         1         2         3         4\n",
       "0    0.177624  0.778557  0.200340  0.195448  0.363447\n",
       "1    0.526906  0.893492  0.512165  0.714076  0.949962\n",
       "2    0.790889  0.501086  0.507695  0.594873  0.074365\n",
       "3    0.130050  0.883883  0.189677  0.210901  0.184302\n",
       "4    0.334504  0.991274  0.895157  0.564080  0.238093\n",
       "..        ...       ...       ...       ...       ...\n",
       "345  0.298504  0.245950  0.912893  0.197826  0.749297\n",
       "346  0.570009  0.622063  0.282763  0.143820  0.086370\n",
       "347  0.169717  0.754974  0.580899  0.289374  0.944199\n",
       "348  0.269581  0.483395  0.581462  0.092624  0.687910\n",
       "349  0.775336  0.217291  0.225235  0.426016  0.061213\n",
       "\n",
       "[350 rows x 5 columns]"
      ]
     },
     "execution_count": 27,
     "metadata": {},
     "output_type": "execute_result"
    }
   ],
   "source": [
    "newdf"
   ]
  },
  {
   "cell_type": "markdown",
   "id": "c25c056c-43bb-4a1e-8e06-4083759a6312",
   "metadata": {},
   "source": [
    "this generates a DataFrame of given dimensions, but because it's so large in size, showing all of the rows is pointless here, so it shows the top 5 and bottom 5 rows of the dataframe"
   ]
  },
  {
   "cell_type": "code",
   "execution_count": 28,
   "id": "cdde14cb-bbf4-4383-9841-47dc03100847",
   "metadata": {},
   "outputs": [
    {
     "data": {
      "text/plain": [
       "pandas.core.frame.DataFrame"
      ]
     },
     "execution_count": 28,
     "metadata": {},
     "output_type": "execute_result"
    }
   ],
   "source": [
    "type(newdf)"
   ]
  },
  {
   "cell_type": "markdown",
   "id": "a38dba3b-b2fa-4525-be14-de15466cda3e",
   "metadata": {},
   "source": [
    "this shows us that the give data structure is a DataFrame"
   ]
  },
  {
   "cell_type": "code",
   "execution_count": 29,
   "id": "47fd92fa-9dd0-497c-9bbf-1ea66fa1067d",
   "metadata": {},
   "outputs": [
    {
     "data": {
      "text/html": [
       "<div>\n",
       "<style scoped>\n",
       "    .dataframe tbody tr th:only-of-type {\n",
       "        vertical-align: middle;\n",
       "    }\n",
       "\n",
       "    .dataframe tbody tr th {\n",
       "        vertical-align: top;\n",
       "    }\n",
       "\n",
       "    .dataframe thead th {\n",
       "        text-align: right;\n",
       "    }\n",
       "</style>\n",
       "<table border=\"1\" class=\"dataframe\">\n",
       "  <thead>\n",
       "    <tr style=\"text-align: right;\">\n",
       "      <th></th>\n",
       "      <th>0</th>\n",
       "      <th>1</th>\n",
       "      <th>2</th>\n",
       "      <th>3</th>\n",
       "      <th>4</th>\n",
       "    </tr>\n",
       "  </thead>\n",
       "  <tbody>\n",
       "    <tr>\n",
       "      <th>0</th>\n",
       "      <td>0.177624</td>\n",
       "      <td>0.778557</td>\n",
       "      <td>0.200340</td>\n",
       "      <td>0.195448</td>\n",
       "      <td>0.363447</td>\n",
       "    </tr>\n",
       "    <tr>\n",
       "      <th>1</th>\n",
       "      <td>0.526906</td>\n",
       "      <td>0.893492</td>\n",
       "      <td>0.512165</td>\n",
       "      <td>0.714076</td>\n",
       "      <td>0.949962</td>\n",
       "    </tr>\n",
       "    <tr>\n",
       "      <th>2</th>\n",
       "      <td>0.790889</td>\n",
       "      <td>0.501086</td>\n",
       "      <td>0.507695</td>\n",
       "      <td>0.594873</td>\n",
       "      <td>0.074365</td>\n",
       "    </tr>\n",
       "    <tr>\n",
       "      <th>3</th>\n",
       "      <td>0.130050</td>\n",
       "      <td>0.883883</td>\n",
       "      <td>0.189677</td>\n",
       "      <td>0.210901</td>\n",
       "      <td>0.184302</td>\n",
       "    </tr>\n",
       "    <tr>\n",
       "      <th>4</th>\n",
       "      <td>0.334504</td>\n",
       "      <td>0.991274</td>\n",
       "      <td>0.895157</td>\n",
       "      <td>0.564080</td>\n",
       "      <td>0.238093</td>\n",
       "    </tr>\n",
       "  </tbody>\n",
       "</table>\n",
       "</div>"
      ],
      "text/plain": [
       "          0         1         2         3         4\n",
       "0  0.177624  0.778557  0.200340  0.195448  0.363447\n",
       "1  0.526906  0.893492  0.512165  0.714076  0.949962\n",
       "2  0.790889  0.501086  0.507695  0.594873  0.074365\n",
       "3  0.130050  0.883883  0.189677  0.210901  0.184302\n",
       "4  0.334504  0.991274  0.895157  0.564080  0.238093"
      ]
     },
     "execution_count": 29,
     "metadata": {},
     "output_type": "execute_result"
    }
   ],
   "source": [
    "newdf.head()"
   ]
  },
  {
   "cell_type": "markdown",
   "id": "6a07ec9a-0cde-41f5-bb47-a4b0b8eafabb",
   "metadata": {},
   "source": [
    "this gives us the top 5 rows of the dataframe"
   ]
  },
  {
   "cell_type": "code",
   "execution_count": 30,
   "id": "6faa26f7-7fdf-4509-b34a-8b09319115c8",
   "metadata": {},
   "outputs": [
    {
     "data": {
      "text/html": [
       "<div>\n",
       "<style scoped>\n",
       "    .dataframe tbody tr th:only-of-type {\n",
       "        vertical-align: middle;\n",
       "    }\n",
       "\n",
       "    .dataframe tbody tr th {\n",
       "        vertical-align: top;\n",
       "    }\n",
       "\n",
       "    .dataframe thead th {\n",
       "        text-align: right;\n",
       "    }\n",
       "</style>\n",
       "<table border=\"1\" class=\"dataframe\">\n",
       "  <thead>\n",
       "    <tr style=\"text-align: right;\">\n",
       "      <th></th>\n",
       "      <th>0</th>\n",
       "      <th>1</th>\n",
       "      <th>2</th>\n",
       "      <th>3</th>\n",
       "      <th>4</th>\n",
       "    </tr>\n",
       "  </thead>\n",
       "  <tbody>\n",
       "    <tr>\n",
       "      <th>345</th>\n",
       "      <td>0.298504</td>\n",
       "      <td>0.245950</td>\n",
       "      <td>0.912893</td>\n",
       "      <td>0.197826</td>\n",
       "      <td>0.749297</td>\n",
       "    </tr>\n",
       "    <tr>\n",
       "      <th>346</th>\n",
       "      <td>0.570009</td>\n",
       "      <td>0.622063</td>\n",
       "      <td>0.282763</td>\n",
       "      <td>0.143820</td>\n",
       "      <td>0.086370</td>\n",
       "    </tr>\n",
       "    <tr>\n",
       "      <th>347</th>\n",
       "      <td>0.169717</td>\n",
       "      <td>0.754974</td>\n",
       "      <td>0.580899</td>\n",
       "      <td>0.289374</td>\n",
       "      <td>0.944199</td>\n",
       "    </tr>\n",
       "    <tr>\n",
       "      <th>348</th>\n",
       "      <td>0.269581</td>\n",
       "      <td>0.483395</td>\n",
       "      <td>0.581462</td>\n",
       "      <td>0.092624</td>\n",
       "      <td>0.687910</td>\n",
       "    </tr>\n",
       "    <tr>\n",
       "      <th>349</th>\n",
       "      <td>0.775336</td>\n",
       "      <td>0.217291</td>\n",
       "      <td>0.225235</td>\n",
       "      <td>0.426016</td>\n",
       "      <td>0.061213</td>\n",
       "    </tr>\n",
       "  </tbody>\n",
       "</table>\n",
       "</div>"
      ],
      "text/plain": [
       "            0         1         2         3         4\n",
       "345  0.298504  0.245950  0.912893  0.197826  0.749297\n",
       "346  0.570009  0.622063  0.282763  0.143820  0.086370\n",
       "347  0.169717  0.754974  0.580899  0.289374  0.944199\n",
       "348  0.269581  0.483395  0.581462  0.092624  0.687910\n",
       "349  0.775336  0.217291  0.225235  0.426016  0.061213"
      ]
     },
     "execution_count": 30,
     "metadata": {},
     "output_type": "execute_result"
    }
   ],
   "source": [
    "newdf.tail()"
   ]
  },
  {
   "cell_type": "markdown",
   "id": "8503e294-453a-40ba-87eb-5cb716ceb41f",
   "metadata": {},
   "source": [
    "this shows us the bottom 5 rows of the dataframe"
   ]
  },
  {
   "cell_type": "code",
   "execution_count": 31,
   "id": "25f2b42a-ec67-4c52-9e32-ae2acc8a01df",
   "metadata": {},
   "outputs": [
    {
     "data": {
      "text/plain": [
       "0    float64\n",
       "1    float64\n",
       "2    float64\n",
       "3    float64\n",
       "4    float64\n",
       "dtype: object"
      ]
     },
     "execution_count": 31,
     "metadata": {},
     "output_type": "execute_result"
    }
   ],
   "source": [
    "newdf.dtypes"
   ]
  },
  {
   "cell_type": "markdown",
   "id": "958d1114-8d57-4a59-9c09-865346c4a3c3",
   "metadata": {},
   "source": [
    "this shows us the data type of each columns ( as dataframe can hold multiple datatypes)"
   ]
  },
  {
   "cell_type": "code",
   "execution_count": 32,
   "id": "0c486ce7-18db-47b9-8934-882fa84248db",
   "metadata": {},
   "outputs": [
    {
     "name": "stderr",
     "output_type": "stream",
     "text": [
      "C:\\Users\\Divyansh Tiwari\\AppData\\Local\\Temp\\ipykernel_4972\\15722733.py:1: FutureWarning: ChainedAssignmentError: behaviour will change in pandas 3.0!\n",
      "You are setting values through chained assignment. Currently this works in certain cases, but when using Copy-on-Write (which will become the default behaviour in pandas 3.0) this will never work to update the original DataFrame or Series, because the intermediate object on which we are setting values will behave as a copy.\n",
      "A typical example is when you are setting values in a column of a DataFrame, like:\n",
      "\n",
      "df[\"col\"][row_indexer] = value\n",
      "\n",
      "Use `df.loc[row_indexer, \"col\"] = values` instead, to perform the assignment in a single step and ensure this keeps updating the original `df`.\n",
      "\n",
      "See the caveats in the documentation: https://pandas.pydata.org/pandas-docs/stable/user_guide/indexing.html#returning-a-view-versus-a-copy\n",
      "\n",
      "  newdf[0][0] = \"Divyansh\"\n",
      "C:\\Users\\Divyansh Tiwari\\AppData\\Local\\Temp\\ipykernel_4972\\15722733.py:1: FutureWarning: Setting an item of incompatible dtype is deprecated and will raise an error in a future version of pandas. Value 'Divyansh' has dtype incompatible with float64, please explicitly cast to a compatible dtype first.\n",
      "  newdf[0][0] = \"Divyansh\"\n"
     ]
    }
   ],
   "source": [
    "newdf[0][0] = \"Divyansh\""
   ]
  },
  {
   "cell_type": "code",
   "execution_count": 33,
   "id": "47745ad3-4d9e-4130-8c62-6679968845ab",
   "metadata": {},
   "outputs": [
    {
     "data": {
      "text/plain": [
       "0     object\n",
       "1    float64\n",
       "2    float64\n",
       "3    float64\n",
       "4    float64\n",
       "dtype: object"
      ]
     },
     "execution_count": 33,
     "metadata": {},
     "output_type": "execute_result"
    }
   ],
   "source": [
    "newdf.dtypes"
   ]
  },
  {
   "cell_type": "markdown",
   "id": "8113083c-9c26-4ab8-a77d-5326178e359f",
   "metadata": {},
   "source": [
    "now by expicitly changing the value of the slice to an object, we've change the whole coloumn data type to object"
   ]
  },
  {
   "cell_type": "markdown",
   "id": "8689a38c-8efa-4921-a4e5-5b2ccffcf2ab",
   "metadata": {},
   "source": [
    "again, explicit change of a slice gives us a warning"
   ]
  },
  {
   "cell_type": "code",
   "execution_count": 34,
   "id": "1e3aeee8-fc69-4408-9e9b-b5c1582c90fa",
   "metadata": {},
   "outputs": [
    {
     "data": {
      "text/plain": [
       "Index([  0,   1,   2,   3,   4,   5,   6,   7,   8,   9,\n",
       "       ...\n",
       "       340, 341, 342, 343, 344, 345, 346, 347, 348, 349],\n",
       "      dtype='int64', length=350)"
      ]
     },
     "execution_count": 34,
     "metadata": {},
     "output_type": "execute_result"
    }
   ],
   "source": [
    "newdf.index"
   ]
  },
  {
   "cell_type": "markdown",
   "id": "1990d6f5-98dd-460f-830f-fde34f38a931",
   "metadata": {},
   "source": [
    "this gives us the indexs of the dataframe"
   ]
  },
  {
   "cell_type": "code",
   "execution_count": 35,
   "id": "d49b53b1-a30e-45fc-9fa0-9f685768b6fc",
   "metadata": {},
   "outputs": [
    {
     "data": {
      "text/plain": [
       "RangeIndex(start=0, stop=5, step=1)"
      ]
     },
     "execution_count": 35,
     "metadata": {},
     "output_type": "execute_result"
    }
   ],
   "source": [
    "newdf.columns"
   ]
  },
  {
   "cell_type": "markdown",
   "id": "3c53b1db-8bcb-4755-9136-ad24634646f5",
   "metadata": {},
   "source": [
    "this gives us a range because it follows a common pattern, starting from 0 ending before 5 and taking one step at a time"
   ]
  },
  {
   "cell_type": "code",
   "execution_count": 36,
   "id": "8973eba5-c4e3-4973-8e9c-c8f9d6106f20",
   "metadata": {},
   "outputs": [
    {
     "data": {
      "text/plain": [
       "array([['Divyansh', 0.7785571767870485, 0.20033972908504405,\n",
       "        0.19544763732274417, 0.36344650396483236],\n",
       "       [0.5269062788958148, 0.8934922637863206, 0.512165233410343,\n",
       "        0.7140762188484645, 0.9499620892046281],\n",
       "       [0.7908894604084982, 0.5010861548154303, 0.5076949810864374,\n",
       "        0.5948730795539721, 0.07436525587632659],\n",
       "       ...,\n",
       "       [0.16971667589374007, 0.7549743806023697, 0.5808987233345423,\n",
       "        0.2893737027774217, 0.944198755511609],\n",
       "       [0.2695810183186621, 0.4833953727923507, 0.581461517693331,\n",
       "        0.09262426902825827, 0.6879103416881936],\n",
       "       [0.77533565101292, 0.2172907120105969, 0.22523480049513878,\n",
       "        0.4260155015203084, 0.06121344764817793]],\n",
       "      shape=(350, 5), dtype=object)"
      ]
     },
     "execution_count": 36,
     "metadata": {},
     "output_type": "execute_result"
    }
   ],
   "source": [
    "newdf.to_numpy()"
   ]
  },
  {
   "cell_type": "markdown",
   "id": "545d9d26-8633-419e-a555-496523b37391",
   "metadata": {},
   "source": [
    "it's still showing the data type as object, because we changed the original numerical value"
   ]
  },
  {
   "cell_type": "markdown",
   "id": "c545134d-9656-4e0b-b974-22a97e816920",
   "metadata": {},
   "source": [
    "let's try changing that value back to numerical value"
   ]
  },
  {
   "cell_type": "code",
   "execution_count": 37,
   "id": "42457bb1-a0ab-4df7-9469-3b6f0a3beea7",
   "metadata": {},
   "outputs": [],
   "source": [
    "newdf[0][0] = 0.675384234"
   ]
  },
  {
   "cell_type": "code",
   "execution_count": 38,
   "id": "b1da7aa4-b697-418f-8928-41f73d4d0813",
   "metadata": {},
   "outputs": [
    {
     "data": {
      "text/html": [
       "<div>\n",
       "<style scoped>\n",
       "    .dataframe tbody tr th:only-of-type {\n",
       "        vertical-align: middle;\n",
       "    }\n",
       "\n",
       "    .dataframe tbody tr th {\n",
       "        vertical-align: top;\n",
       "    }\n",
       "\n",
       "    .dataframe thead th {\n",
       "        text-align: right;\n",
       "    }\n",
       "</style>\n",
       "<table border=\"1\" class=\"dataframe\">\n",
       "  <thead>\n",
       "    <tr style=\"text-align: right;\">\n",
       "      <th></th>\n",
       "      <th>0</th>\n",
       "      <th>1</th>\n",
       "      <th>2</th>\n",
       "      <th>3</th>\n",
       "      <th>4</th>\n",
       "    </tr>\n",
       "  </thead>\n",
       "  <tbody>\n",
       "    <tr>\n",
       "      <th>0</th>\n",
       "      <td>0.675384</td>\n",
       "      <td>0.778557</td>\n",
       "      <td>0.200340</td>\n",
       "      <td>0.195448</td>\n",
       "      <td>0.363447</td>\n",
       "    </tr>\n",
       "    <tr>\n",
       "      <th>1</th>\n",
       "      <td>0.526906</td>\n",
       "      <td>0.893492</td>\n",
       "      <td>0.512165</td>\n",
       "      <td>0.714076</td>\n",
       "      <td>0.949962</td>\n",
       "    </tr>\n",
       "    <tr>\n",
       "      <th>2</th>\n",
       "      <td>0.790889</td>\n",
       "      <td>0.501086</td>\n",
       "      <td>0.507695</td>\n",
       "      <td>0.594873</td>\n",
       "      <td>0.074365</td>\n",
       "    </tr>\n",
       "    <tr>\n",
       "      <th>3</th>\n",
       "      <td>0.13005</td>\n",
       "      <td>0.883883</td>\n",
       "      <td>0.189677</td>\n",
       "      <td>0.210901</td>\n",
       "      <td>0.184302</td>\n",
       "    </tr>\n",
       "    <tr>\n",
       "      <th>4</th>\n",
       "      <td>0.334504</td>\n",
       "      <td>0.991274</td>\n",
       "      <td>0.895157</td>\n",
       "      <td>0.564080</td>\n",
       "      <td>0.238093</td>\n",
       "    </tr>\n",
       "  </tbody>\n",
       "</table>\n",
       "</div>"
      ],
      "text/plain": [
       "          0         1         2         3         4\n",
       "0  0.675384  0.778557  0.200340  0.195448  0.363447\n",
       "1  0.526906  0.893492  0.512165  0.714076  0.949962\n",
       "2  0.790889  0.501086  0.507695  0.594873  0.074365\n",
       "3   0.13005  0.883883  0.189677  0.210901  0.184302\n",
       "4  0.334504  0.991274  0.895157  0.564080  0.238093"
      ]
     },
     "execution_count": 38,
     "metadata": {},
     "output_type": "execute_result"
    }
   ],
   "source": [
    "newdf.head()"
   ]
  },
  {
   "cell_type": "code",
   "execution_count": 39,
   "id": "525443ee-15e3-4f5d-9d82-126bf7e7ed94",
   "metadata": {},
   "outputs": [
    {
     "data": {
      "text/plain": [
       "array([[0.675384234, 0.7785571767870485, 0.20033972908504405,\n",
       "        0.19544763732274417, 0.36344650396483236],\n",
       "       [0.5269062788958148, 0.8934922637863206, 0.512165233410343,\n",
       "        0.7140762188484645, 0.9499620892046281],\n",
       "       [0.7908894604084982, 0.5010861548154303, 0.5076949810864374,\n",
       "        0.5948730795539721, 0.07436525587632659],\n",
       "       ...,\n",
       "       [0.16971667589374007, 0.7549743806023697, 0.5808987233345423,\n",
       "        0.2893737027774217, 0.944198755511609],\n",
       "       [0.2695810183186621, 0.4833953727923507, 0.581461517693331,\n",
       "        0.09262426902825827, 0.6879103416881936],\n",
       "       [0.77533565101292, 0.2172907120105969, 0.22523480049513878,\n",
       "        0.4260155015203084, 0.06121344764817793]],\n",
       "      shape=(350, 5), dtype=object)"
      ]
     },
     "execution_count": 39,
     "metadata": {},
     "output_type": "execute_result"
    }
   ],
   "source": [
    "newdf.to_numpy()"
   ]
  },
  {
   "cell_type": "markdown",
   "id": "0602d8e9-67a5-4967-9f0f-32dd7669f2f5",
   "metadata": {},
   "source": [
    "we did change the value back to numerics but it doesn't change the datatype of that column"
   ]
  },
  {
   "cell_type": "code",
   "execution_count": 40,
   "id": "ef18e08d-1879-44d3-bc44-d2cfe320a1d8",
   "metadata": {},
   "outputs": [
    {
     "data": {
      "text/html": [
       "<div>\n",
       "<style scoped>\n",
       "    .dataframe tbody tr th:only-of-type {\n",
       "        vertical-align: middle;\n",
       "    }\n",
       "\n",
       "    .dataframe tbody tr th {\n",
       "        vertical-align: top;\n",
       "    }\n",
       "\n",
       "    .dataframe thead th {\n",
       "        text-align: right;\n",
       "    }\n",
       "</style>\n",
       "<table border=\"1\" class=\"dataframe\">\n",
       "  <thead>\n",
       "    <tr style=\"text-align: right;\">\n",
       "      <th></th>\n",
       "      <th>0</th>\n",
       "      <th>1</th>\n",
       "      <th>2</th>\n",
       "      <th>3</th>\n",
       "      <th>4</th>\n",
       "      <th>5</th>\n",
       "      <th>6</th>\n",
       "      <th>7</th>\n",
       "      <th>8</th>\n",
       "      <th>9</th>\n",
       "      <th>...</th>\n",
       "      <th>340</th>\n",
       "      <th>341</th>\n",
       "      <th>342</th>\n",
       "      <th>343</th>\n",
       "      <th>344</th>\n",
       "      <th>345</th>\n",
       "      <th>346</th>\n",
       "      <th>347</th>\n",
       "      <th>348</th>\n",
       "      <th>349</th>\n",
       "    </tr>\n",
       "  </thead>\n",
       "  <tbody>\n",
       "    <tr>\n",
       "      <th>0</th>\n",
       "      <td>0.675384</td>\n",
       "      <td>0.526906</td>\n",
       "      <td>0.790889</td>\n",
       "      <td>0.13005</td>\n",
       "      <td>0.334504</td>\n",
       "      <td>0.779684</td>\n",
       "      <td>0.187345</td>\n",
       "      <td>0.513313</td>\n",
       "      <td>0.045101</td>\n",
       "      <td>0.850313</td>\n",
       "      <td>...</td>\n",
       "      <td>0.233594</td>\n",
       "      <td>0.545747</td>\n",
       "      <td>0.823616</td>\n",
       "      <td>0.208984</td>\n",
       "      <td>0.496077</td>\n",
       "      <td>0.298504</td>\n",
       "      <td>0.570009</td>\n",
       "      <td>0.169717</td>\n",
       "      <td>0.269581</td>\n",
       "      <td>0.775336</td>\n",
       "    </tr>\n",
       "    <tr>\n",
       "      <th>1</th>\n",
       "      <td>0.778557</td>\n",
       "      <td>0.893492</td>\n",
       "      <td>0.501086</td>\n",
       "      <td>0.883883</td>\n",
       "      <td>0.991274</td>\n",
       "      <td>0.759</td>\n",
       "      <td>0.202162</td>\n",
       "      <td>0.380429</td>\n",
       "      <td>0.87433</td>\n",
       "      <td>0.621139</td>\n",
       "      <td>...</td>\n",
       "      <td>0.406595</td>\n",
       "      <td>0.415836</td>\n",
       "      <td>0.210776</td>\n",
       "      <td>0.367731</td>\n",
       "      <td>0.134423</td>\n",
       "      <td>0.24595</td>\n",
       "      <td>0.622063</td>\n",
       "      <td>0.754974</td>\n",
       "      <td>0.483395</td>\n",
       "      <td>0.217291</td>\n",
       "    </tr>\n",
       "    <tr>\n",
       "      <th>2</th>\n",
       "      <td>0.20034</td>\n",
       "      <td>0.512165</td>\n",
       "      <td>0.507695</td>\n",
       "      <td>0.189677</td>\n",
       "      <td>0.895157</td>\n",
       "      <td>0.647079</td>\n",
       "      <td>0.638941</td>\n",
       "      <td>0.813191</td>\n",
       "      <td>0.290176</td>\n",
       "      <td>0.869268</td>\n",
       "      <td>...</td>\n",
       "      <td>0.182784</td>\n",
       "      <td>0.181924</td>\n",
       "      <td>0.823729</td>\n",
       "      <td>0.62982</td>\n",
       "      <td>0.364604</td>\n",
       "      <td>0.912893</td>\n",
       "      <td>0.282763</td>\n",
       "      <td>0.580899</td>\n",
       "      <td>0.581462</td>\n",
       "      <td>0.225235</td>\n",
       "    </tr>\n",
       "    <tr>\n",
       "      <th>3</th>\n",
       "      <td>0.195448</td>\n",
       "      <td>0.714076</td>\n",
       "      <td>0.594873</td>\n",
       "      <td>0.210901</td>\n",
       "      <td>0.56408</td>\n",
       "      <td>0.273708</td>\n",
       "      <td>0.878056</td>\n",
       "      <td>0.18797</td>\n",
       "      <td>0.782136</td>\n",
       "      <td>0.99163</td>\n",
       "      <td>...</td>\n",
       "      <td>0.45199</td>\n",
       "      <td>0.04565</td>\n",
       "      <td>0.348131</td>\n",
       "      <td>0.738736</td>\n",
       "      <td>0.904877</td>\n",
       "      <td>0.197826</td>\n",
       "      <td>0.14382</td>\n",
       "      <td>0.289374</td>\n",
       "      <td>0.092624</td>\n",
       "      <td>0.426016</td>\n",
       "    </tr>\n",
       "    <tr>\n",
       "      <th>4</th>\n",
       "      <td>0.363447</td>\n",
       "      <td>0.949962</td>\n",
       "      <td>0.074365</td>\n",
       "      <td>0.184302</td>\n",
       "      <td>0.238093</td>\n",
       "      <td>0.015351</td>\n",
       "      <td>0.330483</td>\n",
       "      <td>0.691766</td>\n",
       "      <td>0.059789</td>\n",
       "      <td>0.998106</td>\n",
       "      <td>...</td>\n",
       "      <td>0.343222</td>\n",
       "      <td>0.218238</td>\n",
       "      <td>0.004299</td>\n",
       "      <td>0.986244</td>\n",
       "      <td>0.146734</td>\n",
       "      <td>0.749297</td>\n",
       "      <td>0.08637</td>\n",
       "      <td>0.944199</td>\n",
       "      <td>0.68791</td>\n",
       "      <td>0.061213</td>\n",
       "    </tr>\n",
       "  </tbody>\n",
       "</table>\n",
       "<p>5 rows × 350 columns</p>\n",
       "</div>"
      ],
      "text/plain": [
       "        0         1         2         3         4         5         6    \\\n",
       "0  0.675384  0.526906  0.790889   0.13005  0.334504  0.779684  0.187345   \n",
       "1  0.778557  0.893492  0.501086  0.883883  0.991274     0.759  0.202162   \n",
       "2   0.20034  0.512165  0.507695  0.189677  0.895157  0.647079  0.638941   \n",
       "3  0.195448  0.714076  0.594873  0.210901   0.56408  0.273708  0.878056   \n",
       "4  0.363447  0.949962  0.074365  0.184302  0.238093  0.015351  0.330483   \n",
       "\n",
       "        7         8         9    ...       340       341       342       343  \\\n",
       "0  0.513313  0.045101  0.850313  ...  0.233594  0.545747  0.823616  0.208984   \n",
       "1  0.380429   0.87433  0.621139  ...  0.406595  0.415836  0.210776  0.367731   \n",
       "2  0.813191  0.290176  0.869268  ...  0.182784  0.181924  0.823729   0.62982   \n",
       "3   0.18797  0.782136   0.99163  ...   0.45199   0.04565  0.348131  0.738736   \n",
       "4  0.691766  0.059789  0.998106  ...  0.343222  0.218238  0.004299  0.986244   \n",
       "\n",
       "        344       345       346       347       348       349  \n",
       "0  0.496077  0.298504  0.570009  0.169717  0.269581  0.775336  \n",
       "1  0.134423   0.24595  0.622063  0.754974  0.483395  0.217291  \n",
       "2  0.364604  0.912893  0.282763  0.580899  0.581462  0.225235  \n",
       "3  0.904877  0.197826   0.14382  0.289374  0.092624  0.426016  \n",
       "4  0.146734  0.749297   0.08637  0.944199   0.68791  0.061213  \n",
       "\n",
       "[5 rows x 350 columns]"
      ]
     },
     "execution_count": 40,
     "metadata": {},
     "output_type": "execute_result"
    }
   ],
   "source": [
    "newdf.T"
   ]
  },
  {
   "cell_type": "code",
   "execution_count": 41,
   "id": "063ad19c-457c-48f5-b05b-b633c912966d",
   "metadata": {},
   "outputs": [
    {
     "data": {
      "text/html": [
       "<div>\n",
       "<style scoped>\n",
       "    .dataframe tbody tr th:only-of-type {\n",
       "        vertical-align: middle;\n",
       "    }\n",
       "\n",
       "    .dataframe tbody tr th {\n",
       "        vertical-align: top;\n",
       "    }\n",
       "\n",
       "    .dataframe thead th {\n",
       "        text-align: right;\n",
       "    }\n",
       "</style>\n",
       "<table border=\"1\" class=\"dataframe\">\n",
       "  <thead>\n",
       "    <tr style=\"text-align: right;\">\n",
       "      <th></th>\n",
       "      <th>0</th>\n",
       "      <th>1</th>\n",
       "      <th>2</th>\n",
       "      <th>3</th>\n",
       "      <th>4</th>\n",
       "    </tr>\n",
       "  </thead>\n",
       "  <tbody>\n",
       "    <tr>\n",
       "      <th>0</th>\n",
       "      <td>0.675384</td>\n",
       "      <td>0.778557</td>\n",
       "      <td>0.200340</td>\n",
       "      <td>0.195448</td>\n",
       "      <td>0.363447</td>\n",
       "    </tr>\n",
       "    <tr>\n",
       "      <th>1</th>\n",
       "      <td>0.526906</td>\n",
       "      <td>0.893492</td>\n",
       "      <td>0.512165</td>\n",
       "      <td>0.714076</td>\n",
       "      <td>0.949962</td>\n",
       "    </tr>\n",
       "    <tr>\n",
       "      <th>2</th>\n",
       "      <td>0.790889</td>\n",
       "      <td>0.501086</td>\n",
       "      <td>0.507695</td>\n",
       "      <td>0.594873</td>\n",
       "      <td>0.074365</td>\n",
       "    </tr>\n",
       "    <tr>\n",
       "      <th>3</th>\n",
       "      <td>0.13005</td>\n",
       "      <td>0.883883</td>\n",
       "      <td>0.189677</td>\n",
       "      <td>0.210901</td>\n",
       "      <td>0.184302</td>\n",
       "    </tr>\n",
       "    <tr>\n",
       "      <th>4</th>\n",
       "      <td>0.334504</td>\n",
       "      <td>0.991274</td>\n",
       "      <td>0.895157</td>\n",
       "      <td>0.564080</td>\n",
       "      <td>0.238093</td>\n",
       "    </tr>\n",
       "  </tbody>\n",
       "</table>\n",
       "</div>"
      ],
      "text/plain": [
       "          0         1         2         3         4\n",
       "0  0.675384  0.778557  0.200340  0.195448  0.363447\n",
       "1  0.526906  0.893492  0.512165  0.714076  0.949962\n",
       "2  0.790889  0.501086  0.507695  0.594873  0.074365\n",
       "3   0.13005  0.883883  0.189677  0.210901  0.184302\n",
       "4  0.334504  0.991274  0.895157  0.564080  0.238093"
      ]
     },
     "execution_count": 41,
     "metadata": {},
     "output_type": "execute_result"
    }
   ],
   "source": [
    "newdf.head()"
   ]
  },
  {
   "cell_type": "code",
   "execution_count": 43,
   "id": "54f25884-5b60-48ad-8fb7-cca7deefbdea",
   "metadata": {},
   "outputs": [
    {
     "data": {
      "text/html": [
       "<div>\n",
       "<style scoped>\n",
       "    .dataframe tbody tr th:only-of-type {\n",
       "        vertical-align: middle;\n",
       "    }\n",
       "\n",
       "    .dataframe tbody tr th {\n",
       "        vertical-align: top;\n",
       "    }\n",
       "\n",
       "    .dataframe thead th {\n",
       "        text-align: right;\n",
       "    }\n",
       "</style>\n",
       "<table border=\"1\" class=\"dataframe\">\n",
       "  <thead>\n",
       "    <tr style=\"text-align: right;\">\n",
       "      <th></th>\n",
       "      <th>0</th>\n",
       "      <th>1</th>\n",
       "      <th>2</th>\n",
       "      <th>3</th>\n",
       "      <th>4</th>\n",
       "    </tr>\n",
       "  </thead>\n",
       "  <tbody>\n",
       "    <tr>\n",
       "      <th>349</th>\n",
       "      <td>0.775336</td>\n",
       "      <td>0.217291</td>\n",
       "      <td>0.225235</td>\n",
       "      <td>0.426016</td>\n",
       "      <td>0.061213</td>\n",
       "    </tr>\n",
       "    <tr>\n",
       "      <th>348</th>\n",
       "      <td>0.269581</td>\n",
       "      <td>0.483395</td>\n",
       "      <td>0.581462</td>\n",
       "      <td>0.092624</td>\n",
       "      <td>0.687910</td>\n",
       "    </tr>\n",
       "    <tr>\n",
       "      <th>347</th>\n",
       "      <td>0.169717</td>\n",
       "      <td>0.754974</td>\n",
       "      <td>0.580899</td>\n",
       "      <td>0.289374</td>\n",
       "      <td>0.944199</td>\n",
       "    </tr>\n",
       "    <tr>\n",
       "      <th>346</th>\n",
       "      <td>0.570009</td>\n",
       "      <td>0.622063</td>\n",
       "      <td>0.282763</td>\n",
       "      <td>0.143820</td>\n",
       "      <td>0.086370</td>\n",
       "    </tr>\n",
       "    <tr>\n",
       "      <th>345</th>\n",
       "      <td>0.298504</td>\n",
       "      <td>0.245950</td>\n",
       "      <td>0.912893</td>\n",
       "      <td>0.197826</td>\n",
       "      <td>0.749297</td>\n",
       "    </tr>\n",
       "    <tr>\n",
       "      <th>...</th>\n",
       "      <td>...</td>\n",
       "      <td>...</td>\n",
       "      <td>...</td>\n",
       "      <td>...</td>\n",
       "      <td>...</td>\n",
       "    </tr>\n",
       "    <tr>\n",
       "      <th>4</th>\n",
       "      <td>0.334504</td>\n",
       "      <td>0.991274</td>\n",
       "      <td>0.895157</td>\n",
       "      <td>0.564080</td>\n",
       "      <td>0.238093</td>\n",
       "    </tr>\n",
       "    <tr>\n",
       "      <th>3</th>\n",
       "      <td>0.13005</td>\n",
       "      <td>0.883883</td>\n",
       "      <td>0.189677</td>\n",
       "      <td>0.210901</td>\n",
       "      <td>0.184302</td>\n",
       "    </tr>\n",
       "    <tr>\n",
       "      <th>2</th>\n",
       "      <td>0.790889</td>\n",
       "      <td>0.501086</td>\n",
       "      <td>0.507695</td>\n",
       "      <td>0.594873</td>\n",
       "      <td>0.074365</td>\n",
       "    </tr>\n",
       "    <tr>\n",
       "      <th>1</th>\n",
       "      <td>0.526906</td>\n",
       "      <td>0.893492</td>\n",
       "      <td>0.512165</td>\n",
       "      <td>0.714076</td>\n",
       "      <td>0.949962</td>\n",
       "    </tr>\n",
       "    <tr>\n",
       "      <th>0</th>\n",
       "      <td>0.675384</td>\n",
       "      <td>0.778557</td>\n",
       "      <td>0.200340</td>\n",
       "      <td>0.195448</td>\n",
       "      <td>0.363447</td>\n",
       "    </tr>\n",
       "  </tbody>\n",
       "</table>\n",
       "<p>350 rows × 5 columns</p>\n",
       "</div>"
      ],
      "text/plain": [
       "            0         1         2         3         4\n",
       "349  0.775336  0.217291  0.225235  0.426016  0.061213\n",
       "348  0.269581  0.483395  0.581462  0.092624  0.687910\n",
       "347  0.169717  0.754974  0.580899  0.289374  0.944199\n",
       "346  0.570009  0.622063  0.282763  0.143820  0.086370\n",
       "345  0.298504  0.245950  0.912893  0.197826  0.749297\n",
       "..        ...       ...       ...       ...       ...\n",
       "4    0.334504  0.991274  0.895157  0.564080  0.238093\n",
       "3     0.13005  0.883883  0.189677  0.210901  0.184302\n",
       "2    0.790889  0.501086  0.507695  0.594873  0.074365\n",
       "1    0.526906  0.893492  0.512165  0.714076  0.949962\n",
       "0    0.675384  0.778557  0.200340  0.195448  0.363447\n",
       "\n",
       "[350 rows x 5 columns]"
      ]
     },
     "execution_count": 43,
     "metadata": {},
     "output_type": "execute_result"
    }
   ],
   "source": [
    "newdf.sort_index(axis = 0, ascending = False)"
   ]
  },
  {
   "cell_type": "markdown",
   "id": "1e597458-d349-48fb-9a34-fd9d01c41502",
   "metadata": {},
   "source": [
    "sorts the row in descending order by their index"
   ]
  },
  {
   "cell_type": "code",
   "execution_count": 44,
   "id": "ae2e6bd7-b7c2-4f6e-bd56-c1c96f0c6cb5",
   "metadata": {},
   "outputs": [
    {
     "data": {
      "text/html": [
       "<div>\n",
       "<style scoped>\n",
       "    .dataframe tbody tr th:only-of-type {\n",
       "        vertical-align: middle;\n",
       "    }\n",
       "\n",
       "    .dataframe tbody tr th {\n",
       "        vertical-align: top;\n",
       "    }\n",
       "\n",
       "    .dataframe thead th {\n",
       "        text-align: right;\n",
       "    }\n",
       "</style>\n",
       "<table border=\"1\" class=\"dataframe\">\n",
       "  <thead>\n",
       "    <tr style=\"text-align: right;\">\n",
       "      <th></th>\n",
       "      <th>4</th>\n",
       "      <th>3</th>\n",
       "      <th>2</th>\n",
       "      <th>1</th>\n",
       "      <th>0</th>\n",
       "    </tr>\n",
       "  </thead>\n",
       "  <tbody>\n",
       "    <tr>\n",
       "      <th>0</th>\n",
       "      <td>0.363447</td>\n",
       "      <td>0.195448</td>\n",
       "      <td>0.200340</td>\n",
       "      <td>0.778557</td>\n",
       "      <td>0.675384</td>\n",
       "    </tr>\n",
       "    <tr>\n",
       "      <th>1</th>\n",
       "      <td>0.949962</td>\n",
       "      <td>0.714076</td>\n",
       "      <td>0.512165</td>\n",
       "      <td>0.893492</td>\n",
       "      <td>0.526906</td>\n",
       "    </tr>\n",
       "    <tr>\n",
       "      <th>2</th>\n",
       "      <td>0.074365</td>\n",
       "      <td>0.594873</td>\n",
       "      <td>0.507695</td>\n",
       "      <td>0.501086</td>\n",
       "      <td>0.790889</td>\n",
       "    </tr>\n",
       "    <tr>\n",
       "      <th>3</th>\n",
       "      <td>0.184302</td>\n",
       "      <td>0.210901</td>\n",
       "      <td>0.189677</td>\n",
       "      <td>0.883883</td>\n",
       "      <td>0.13005</td>\n",
       "    </tr>\n",
       "    <tr>\n",
       "      <th>4</th>\n",
       "      <td>0.238093</td>\n",
       "      <td>0.564080</td>\n",
       "      <td>0.895157</td>\n",
       "      <td>0.991274</td>\n",
       "      <td>0.334504</td>\n",
       "    </tr>\n",
       "    <tr>\n",
       "      <th>...</th>\n",
       "      <td>...</td>\n",
       "      <td>...</td>\n",
       "      <td>...</td>\n",
       "      <td>...</td>\n",
       "      <td>...</td>\n",
       "    </tr>\n",
       "    <tr>\n",
       "      <th>345</th>\n",
       "      <td>0.749297</td>\n",
       "      <td>0.197826</td>\n",
       "      <td>0.912893</td>\n",
       "      <td>0.245950</td>\n",
       "      <td>0.298504</td>\n",
       "    </tr>\n",
       "    <tr>\n",
       "      <th>346</th>\n",
       "      <td>0.086370</td>\n",
       "      <td>0.143820</td>\n",
       "      <td>0.282763</td>\n",
       "      <td>0.622063</td>\n",
       "      <td>0.570009</td>\n",
       "    </tr>\n",
       "    <tr>\n",
       "      <th>347</th>\n",
       "      <td>0.944199</td>\n",
       "      <td>0.289374</td>\n",
       "      <td>0.580899</td>\n",
       "      <td>0.754974</td>\n",
       "      <td>0.169717</td>\n",
       "    </tr>\n",
       "    <tr>\n",
       "      <th>348</th>\n",
       "      <td>0.687910</td>\n",
       "      <td>0.092624</td>\n",
       "      <td>0.581462</td>\n",
       "      <td>0.483395</td>\n",
       "      <td>0.269581</td>\n",
       "    </tr>\n",
       "    <tr>\n",
       "      <th>349</th>\n",
       "      <td>0.061213</td>\n",
       "      <td>0.426016</td>\n",
       "      <td>0.225235</td>\n",
       "      <td>0.217291</td>\n",
       "      <td>0.775336</td>\n",
       "    </tr>\n",
       "  </tbody>\n",
       "</table>\n",
       "<p>350 rows × 5 columns</p>\n",
       "</div>"
      ],
      "text/plain": [
       "            4         3         2         1         0\n",
       "0    0.363447  0.195448  0.200340  0.778557  0.675384\n",
       "1    0.949962  0.714076  0.512165  0.893492  0.526906\n",
       "2    0.074365  0.594873  0.507695  0.501086  0.790889\n",
       "3    0.184302  0.210901  0.189677  0.883883   0.13005\n",
       "4    0.238093  0.564080  0.895157  0.991274  0.334504\n",
       "..        ...       ...       ...       ...       ...\n",
       "345  0.749297  0.197826  0.912893  0.245950  0.298504\n",
       "346  0.086370  0.143820  0.282763  0.622063  0.570009\n",
       "347  0.944199  0.289374  0.580899  0.754974  0.169717\n",
       "348  0.687910  0.092624  0.581462  0.483395  0.269581\n",
       "349  0.061213  0.426016  0.225235  0.217291  0.775336\n",
       "\n",
       "[350 rows x 5 columns]"
      ]
     },
     "execution_count": 44,
     "metadata": {},
     "output_type": "execute_result"
    }
   ],
   "source": [
    "newdf.sort_index(axis = 1, ascending = False)"
   ]
  },
  {
   "cell_type": "markdown",
   "id": "e9926fd5-6594-4e28-b66a-bc7f05a437b4",
   "metadata": {},
   "source": [
    "sorts columns in descending order according to index"
   ]
  },
  {
   "cell_type": "code",
   "execution_count": 45,
   "id": "b1654a1c-e5ed-402f-bbd7-07645a0fceb9",
   "metadata": {},
   "outputs": [
    {
     "data": {
      "text/plain": [
       "pandas.core.series.Series"
      ]
     },
     "execution_count": 45,
     "metadata": {},
     "output_type": "execute_result"
    }
   ],
   "source": [
    "type(newdf[0])"
   ]
  },
  {
   "cell_type": "markdown",
   "id": "1e3735d1-11d1-4e84-867d-94ea4edbc37f",
   "metadata": {},
   "source": [
    "this codes confirms that every column in a dataframe is a series"
   ]
  },
  {
   "cell_type": "code",
   "execution_count": 46,
   "id": "cd328cf6-9c2f-446c-81b1-422c5de2ec39",
   "metadata": {},
   "outputs": [
    {
     "data": {
      "text/html": [
       "<div>\n",
       "<style scoped>\n",
       "    .dataframe tbody tr th:only-of-type {\n",
       "        vertical-align: middle;\n",
       "    }\n",
       "\n",
       "    .dataframe tbody tr th {\n",
       "        vertical-align: top;\n",
       "    }\n",
       "\n",
       "    .dataframe thead th {\n",
       "        text-align: right;\n",
       "    }\n",
       "</style>\n",
       "<table border=\"1\" class=\"dataframe\">\n",
       "  <thead>\n",
       "    <tr style=\"text-align: right;\">\n",
       "      <th></th>\n",
       "      <th>0</th>\n",
       "      <th>1</th>\n",
       "      <th>2</th>\n",
       "      <th>3</th>\n",
       "      <th>4</th>\n",
       "    </tr>\n",
       "  </thead>\n",
       "  <tbody>\n",
       "    <tr>\n",
       "      <th>0</th>\n",
       "      <td>0.675384</td>\n",
       "      <td>0.778557</td>\n",
       "      <td>0.200340</td>\n",
       "      <td>0.195448</td>\n",
       "      <td>0.363447</td>\n",
       "    </tr>\n",
       "    <tr>\n",
       "      <th>1</th>\n",
       "      <td>0.526906</td>\n",
       "      <td>0.893492</td>\n",
       "      <td>0.512165</td>\n",
       "      <td>0.714076</td>\n",
       "      <td>0.949962</td>\n",
       "    </tr>\n",
       "    <tr>\n",
       "      <th>2</th>\n",
       "      <td>0.790889</td>\n",
       "      <td>0.501086</td>\n",
       "      <td>0.507695</td>\n",
       "      <td>0.594873</td>\n",
       "      <td>0.074365</td>\n",
       "    </tr>\n",
       "    <tr>\n",
       "      <th>3</th>\n",
       "      <td>0.13005</td>\n",
       "      <td>0.883883</td>\n",
       "      <td>0.189677</td>\n",
       "      <td>0.210901</td>\n",
       "      <td>0.184302</td>\n",
       "    </tr>\n",
       "    <tr>\n",
       "      <th>4</th>\n",
       "      <td>0.334504</td>\n",
       "      <td>0.991274</td>\n",
       "      <td>0.895157</td>\n",
       "      <td>0.564080</td>\n",
       "      <td>0.238093</td>\n",
       "    </tr>\n",
       "  </tbody>\n",
       "</table>\n",
       "</div>"
      ],
      "text/plain": [
       "          0         1         2         3         4\n",
       "0  0.675384  0.778557  0.200340  0.195448  0.363447\n",
       "1  0.526906  0.893492  0.512165  0.714076  0.949962\n",
       "2  0.790889  0.501086  0.507695  0.594873  0.074365\n",
       "3   0.13005  0.883883  0.189677  0.210901  0.184302\n",
       "4  0.334504  0.991274  0.895157  0.564080  0.238093"
      ]
     },
     "execution_count": 46,
     "metadata": {},
     "output_type": "execute_result"
    }
   ],
   "source": [
    "newdf.head()"
   ]
  },
  {
   "cell_type": "code",
   "execution_count": 47,
   "id": "d71edb6a-e6c4-487e-a79e-15b8af67c1bc",
   "metadata": {},
   "outputs": [],
   "source": [
    "newdf2 = newdf"
   ]
  },
  {
   "cell_type": "code",
   "execution_count": 48,
   "id": "a1bf5afe-110b-4766-b8b8-108c487fcbe7",
   "metadata": {},
   "outputs": [],
   "source": [
    "newdf2[0][0] = 54321"
   ]
  },
  {
   "cell_type": "code",
   "execution_count": 49,
   "id": "cfa66595-0a02-4def-ab0c-acf1094d8594",
   "metadata": {},
   "outputs": [
    {
     "data": {
      "text/html": [
       "<div>\n",
       "<style scoped>\n",
       "    .dataframe tbody tr th:only-of-type {\n",
       "        vertical-align: middle;\n",
       "    }\n",
       "\n",
       "    .dataframe tbody tr th {\n",
       "        vertical-align: top;\n",
       "    }\n",
       "\n",
       "    .dataframe thead th {\n",
       "        text-align: right;\n",
       "    }\n",
       "</style>\n",
       "<table border=\"1\" class=\"dataframe\">\n",
       "  <thead>\n",
       "    <tr style=\"text-align: right;\">\n",
       "      <th></th>\n",
       "      <th>0</th>\n",
       "      <th>1</th>\n",
       "      <th>2</th>\n",
       "      <th>3</th>\n",
       "      <th>4</th>\n",
       "    </tr>\n",
       "  </thead>\n",
       "  <tbody>\n",
       "    <tr>\n",
       "      <th>0</th>\n",
       "      <td>54321</td>\n",
       "      <td>0.778557</td>\n",
       "      <td>0.200340</td>\n",
       "      <td>0.195448</td>\n",
       "      <td>0.363447</td>\n",
       "    </tr>\n",
       "    <tr>\n",
       "      <th>1</th>\n",
       "      <td>0.526906</td>\n",
       "      <td>0.893492</td>\n",
       "      <td>0.512165</td>\n",
       "      <td>0.714076</td>\n",
       "      <td>0.949962</td>\n",
       "    </tr>\n",
       "    <tr>\n",
       "      <th>2</th>\n",
       "      <td>0.790889</td>\n",
       "      <td>0.501086</td>\n",
       "      <td>0.507695</td>\n",
       "      <td>0.594873</td>\n",
       "      <td>0.074365</td>\n",
       "    </tr>\n",
       "    <tr>\n",
       "      <th>3</th>\n",
       "      <td>0.13005</td>\n",
       "      <td>0.883883</td>\n",
       "      <td>0.189677</td>\n",
       "      <td>0.210901</td>\n",
       "      <td>0.184302</td>\n",
       "    </tr>\n",
       "    <tr>\n",
       "      <th>4</th>\n",
       "      <td>0.334504</td>\n",
       "      <td>0.991274</td>\n",
       "      <td>0.895157</td>\n",
       "      <td>0.564080</td>\n",
       "      <td>0.238093</td>\n",
       "    </tr>\n",
       "    <tr>\n",
       "      <th>...</th>\n",
       "      <td>...</td>\n",
       "      <td>...</td>\n",
       "      <td>...</td>\n",
       "      <td>...</td>\n",
       "      <td>...</td>\n",
       "    </tr>\n",
       "    <tr>\n",
       "      <th>345</th>\n",
       "      <td>0.298504</td>\n",
       "      <td>0.245950</td>\n",
       "      <td>0.912893</td>\n",
       "      <td>0.197826</td>\n",
       "      <td>0.749297</td>\n",
       "    </tr>\n",
       "    <tr>\n",
       "      <th>346</th>\n",
       "      <td>0.570009</td>\n",
       "      <td>0.622063</td>\n",
       "      <td>0.282763</td>\n",
       "      <td>0.143820</td>\n",
       "      <td>0.086370</td>\n",
       "    </tr>\n",
       "    <tr>\n",
       "      <th>347</th>\n",
       "      <td>0.169717</td>\n",
       "      <td>0.754974</td>\n",
       "      <td>0.580899</td>\n",
       "      <td>0.289374</td>\n",
       "      <td>0.944199</td>\n",
       "    </tr>\n",
       "    <tr>\n",
       "      <th>348</th>\n",
       "      <td>0.269581</td>\n",
       "      <td>0.483395</td>\n",
       "      <td>0.581462</td>\n",
       "      <td>0.092624</td>\n",
       "      <td>0.687910</td>\n",
       "    </tr>\n",
       "    <tr>\n",
       "      <th>349</th>\n",
       "      <td>0.775336</td>\n",
       "      <td>0.217291</td>\n",
       "      <td>0.225235</td>\n",
       "      <td>0.426016</td>\n",
       "      <td>0.061213</td>\n",
       "    </tr>\n",
       "  </tbody>\n",
       "</table>\n",
       "<p>350 rows × 5 columns</p>\n",
       "</div>"
      ],
      "text/plain": [
       "            0         1         2         3         4\n",
       "0       54321  0.778557  0.200340  0.195448  0.363447\n",
       "1    0.526906  0.893492  0.512165  0.714076  0.949962\n",
       "2    0.790889  0.501086  0.507695  0.594873  0.074365\n",
       "3     0.13005  0.883883  0.189677  0.210901  0.184302\n",
       "4    0.334504  0.991274  0.895157  0.564080  0.238093\n",
       "..        ...       ...       ...       ...       ...\n",
       "345  0.298504  0.245950  0.912893  0.197826  0.749297\n",
       "346  0.570009  0.622063  0.282763  0.143820  0.086370\n",
       "347  0.169717  0.754974  0.580899  0.289374  0.944199\n",
       "348  0.269581  0.483395  0.581462  0.092624  0.687910\n",
       "349  0.775336  0.217291  0.225235  0.426016  0.061213\n",
       "\n",
       "[350 rows x 5 columns]"
      ]
     },
     "execution_count": 49,
     "metadata": {},
     "output_type": "execute_result"
    }
   ],
   "source": [
    "newdf"
   ]
  },
  {
   "cell_type": "markdown",
   "id": "625c97ca-86aa-4d46-b7d5-28d1993f930a",
   "metadata": {},
   "source": [
    "this is to clarify that \"newdf2 = newdf\" doesn't just copy the dataframe, but here newdf2 works as pass by reference, i.e. any changes to newdf2 will apply to newdf"
   ]
  },
  {
   "cell_type": "code",
   "execution_count": 50,
   "id": "93e09a65-d411-42f4-b9cc-2d56b9e6596a",
   "metadata": {},
   "outputs": [],
   "source": [
    "newdf3 = newdf.copy()"
   ]
  },
  {
   "cell_type": "code",
   "execution_count": 51,
   "id": "f8441b3a-ec00-4dc2-9d86-b5bc6f0cf070",
   "metadata": {},
   "outputs": [
    {
     "name": "stderr",
     "output_type": "stream",
     "text": [
      "C:\\Users\\Divyansh Tiwari\\AppData\\Local\\Temp\\ipykernel_4972\\1300746206.py:1: FutureWarning: ChainedAssignmentError: behaviour will change in pandas 3.0!\n",
      "You are setting values through chained assignment. Currently this works in certain cases, but when using Copy-on-Write (which will become the default behaviour in pandas 3.0) this will never work to update the original DataFrame or Series, because the intermediate object on which we are setting values will behave as a copy.\n",
      "A typical example is when you are setting values in a column of a DataFrame, like:\n",
      "\n",
      "df[\"col\"][row_indexer] = value\n",
      "\n",
      "Use `df.loc[row_indexer, \"col\"] = values` instead, to perform the assignment in a single step and ensure this keeps updating the original `df`.\n",
      "\n",
      "See the caveats in the documentation: https://pandas.pydata.org/pandas-docs/stable/user_guide/indexing.html#returning-a-view-versus-a-copy\n",
      "\n",
      "  newdf3[0][0] = 9\n",
      "C:\\Users\\Divyansh Tiwari\\AppData\\Local\\Temp\\ipykernel_4972\\1300746206.py:1: SettingWithCopyWarning: \n",
      "A value is trying to be set on a copy of a slice from a DataFrame\n",
      "\n",
      "See the caveats in the documentation: https://pandas.pydata.org/pandas-docs/stable/user_guide/indexing.html#returning-a-view-versus-a-copy\n",
      "  newdf3[0][0] = 9\n"
     ]
    }
   ],
   "source": [
    "newdf3[0][0] = 9"
   ]
  },
  {
   "cell_type": "code",
   "execution_count": 52,
   "id": "3c2f7b0b-ff4d-4bd1-abaa-9330aec6202d",
   "metadata": {},
   "outputs": [
    {
     "data": {
      "text/html": [
       "<div>\n",
       "<style scoped>\n",
       "    .dataframe tbody tr th:only-of-type {\n",
       "        vertical-align: middle;\n",
       "    }\n",
       "\n",
       "    .dataframe tbody tr th {\n",
       "        vertical-align: top;\n",
       "    }\n",
       "\n",
       "    .dataframe thead th {\n",
       "        text-align: right;\n",
       "    }\n",
       "</style>\n",
       "<table border=\"1\" class=\"dataframe\">\n",
       "  <thead>\n",
       "    <tr style=\"text-align: right;\">\n",
       "      <th></th>\n",
       "      <th>0</th>\n",
       "      <th>1</th>\n",
       "      <th>2</th>\n",
       "      <th>3</th>\n",
       "      <th>4</th>\n",
       "    </tr>\n",
       "  </thead>\n",
       "  <tbody>\n",
       "    <tr>\n",
       "      <th>0</th>\n",
       "      <td>9</td>\n",
       "      <td>0.778557</td>\n",
       "      <td>0.200340</td>\n",
       "      <td>0.195448</td>\n",
       "      <td>0.363447</td>\n",
       "    </tr>\n",
       "    <tr>\n",
       "      <th>1</th>\n",
       "      <td>0.526906</td>\n",
       "      <td>0.893492</td>\n",
       "      <td>0.512165</td>\n",
       "      <td>0.714076</td>\n",
       "      <td>0.949962</td>\n",
       "    </tr>\n",
       "    <tr>\n",
       "      <th>2</th>\n",
       "      <td>0.790889</td>\n",
       "      <td>0.501086</td>\n",
       "      <td>0.507695</td>\n",
       "      <td>0.594873</td>\n",
       "      <td>0.074365</td>\n",
       "    </tr>\n",
       "    <tr>\n",
       "      <th>3</th>\n",
       "      <td>0.13005</td>\n",
       "      <td>0.883883</td>\n",
       "      <td>0.189677</td>\n",
       "      <td>0.210901</td>\n",
       "      <td>0.184302</td>\n",
       "    </tr>\n",
       "    <tr>\n",
       "      <th>4</th>\n",
       "      <td>0.334504</td>\n",
       "      <td>0.991274</td>\n",
       "      <td>0.895157</td>\n",
       "      <td>0.564080</td>\n",
       "      <td>0.238093</td>\n",
       "    </tr>\n",
       "  </tbody>\n",
       "</table>\n",
       "</div>"
      ],
      "text/plain": [
       "          0         1         2         3         4\n",
       "0         9  0.778557  0.200340  0.195448  0.363447\n",
       "1  0.526906  0.893492  0.512165  0.714076  0.949962\n",
       "2  0.790889  0.501086  0.507695  0.594873  0.074365\n",
       "3   0.13005  0.883883  0.189677  0.210901  0.184302\n",
       "4  0.334504  0.991274  0.895157  0.564080  0.238093"
      ]
     },
     "execution_count": 52,
     "metadata": {},
     "output_type": "execute_result"
    }
   ],
   "source": [
    "newdf3.head()"
   ]
  },
  {
   "cell_type": "code",
   "execution_count": 53,
   "id": "43cbec39-8e6a-4de6-b6f2-4988a639fccf",
   "metadata": {},
   "outputs": [
    {
     "data": {
      "text/html": [
       "<div>\n",
       "<style scoped>\n",
       "    .dataframe tbody tr th:only-of-type {\n",
       "        vertical-align: middle;\n",
       "    }\n",
       "\n",
       "    .dataframe tbody tr th {\n",
       "        vertical-align: top;\n",
       "    }\n",
       "\n",
       "    .dataframe thead th {\n",
       "        text-align: right;\n",
       "    }\n",
       "</style>\n",
       "<table border=\"1\" class=\"dataframe\">\n",
       "  <thead>\n",
       "    <tr style=\"text-align: right;\">\n",
       "      <th></th>\n",
       "      <th>0</th>\n",
       "      <th>1</th>\n",
       "      <th>2</th>\n",
       "      <th>3</th>\n",
       "      <th>4</th>\n",
       "    </tr>\n",
       "  </thead>\n",
       "  <tbody>\n",
       "    <tr>\n",
       "      <th>0</th>\n",
       "      <td>54321</td>\n",
       "      <td>0.778557</td>\n",
       "      <td>0.200340</td>\n",
       "      <td>0.195448</td>\n",
       "      <td>0.363447</td>\n",
       "    </tr>\n",
       "    <tr>\n",
       "      <th>1</th>\n",
       "      <td>0.526906</td>\n",
       "      <td>0.893492</td>\n",
       "      <td>0.512165</td>\n",
       "      <td>0.714076</td>\n",
       "      <td>0.949962</td>\n",
       "    </tr>\n",
       "    <tr>\n",
       "      <th>2</th>\n",
       "      <td>0.790889</td>\n",
       "      <td>0.501086</td>\n",
       "      <td>0.507695</td>\n",
       "      <td>0.594873</td>\n",
       "      <td>0.074365</td>\n",
       "    </tr>\n",
       "    <tr>\n",
       "      <th>3</th>\n",
       "      <td>0.13005</td>\n",
       "      <td>0.883883</td>\n",
       "      <td>0.189677</td>\n",
       "      <td>0.210901</td>\n",
       "      <td>0.184302</td>\n",
       "    </tr>\n",
       "    <tr>\n",
       "      <th>4</th>\n",
       "      <td>0.334504</td>\n",
       "      <td>0.991274</td>\n",
       "      <td>0.895157</td>\n",
       "      <td>0.564080</td>\n",
       "      <td>0.238093</td>\n",
       "    </tr>\n",
       "  </tbody>\n",
       "</table>\n",
       "</div>"
      ],
      "text/plain": [
       "          0         1         2         3         4\n",
       "0     54321  0.778557  0.200340  0.195448  0.363447\n",
       "1  0.526906  0.893492  0.512165  0.714076  0.949962\n",
       "2  0.790889  0.501086  0.507695  0.594873  0.074365\n",
       "3   0.13005  0.883883  0.189677  0.210901  0.184302\n",
       "4  0.334504  0.991274  0.895157  0.564080  0.238093"
      ]
     },
     "execution_count": 53,
     "metadata": {},
     "output_type": "execute_result"
    }
   ],
   "source": [
    "newdf.head()"
   ]
  },
  {
   "cell_type": "markdown",
   "id": "ceba1048-2053-4fcc-91f7-24219778c657",
   "metadata": {},
   "source": [
    "here in this case we did not alter any elements in the original dataframe because we used .copy() function to just copy the dataframe instead of creating a sort of pointer to the dataframe"
   ]
  },
  {
   "cell_type": "code",
   "execution_count": null,
   "id": "f64c845b-5911-477a-961f-30269d75dafc",
   "metadata": {},
   "outputs": [],
   "source": []
  }
 ],
 "metadata": {
  "kernelspec": {
   "display_name": "Python 3 (ipykernel)",
   "language": "python",
   "name": "python3"
  },
  "language_info": {
   "codemirror_mode": {
    "name": "ipython",
    "version": 3
   },
   "file_extension": ".py",
   "mimetype": "text/x-python",
   "name": "python",
   "nbconvert_exporter": "python",
   "pygments_lexer": "ipython3",
   "version": "3.13.7"
  }
 },
 "nbformat": 4,
 "nbformat_minor": 5
}
